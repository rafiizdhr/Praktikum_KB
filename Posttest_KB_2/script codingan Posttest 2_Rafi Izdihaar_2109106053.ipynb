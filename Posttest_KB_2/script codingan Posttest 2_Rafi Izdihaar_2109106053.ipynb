{
 "cells": [
  {
   "cell_type": "markdown",
   "id": "e95727f3-dfc4-47cb-a7ba-323172dbfbd6",
   "metadata": {},
   "source": [
    "## Nama : Rafi Izdihaar\n",
    "## Nim  : 2109106053\n",
    "## Kelas: Informatika A'21"
   ]
  },
  {
   "cell_type": "markdown",
   "id": "ac09408f-7625-4964-acbe-25ef96584020",
   "metadata": {},
   "source": [
    "### Mengimport Library Panda dan Numpy"
   ]
  },
  {
   "cell_type": "code",
   "execution_count": 3,
   "id": "6a4ac48b-faea-40b6-951a-107619707147",
   "metadata": {},
   "outputs": [],
   "source": [
    "import pandas as pd\n",
    "import numpy as np"
   ]
  },
  {
   "cell_type": "markdown",
   "id": "d87e3f03-b950-42a7-b7ab-deb26f6a6baa",
   "metadata": {},
   "source": [
    "### Membaca file csv (Korean Demographics)"
   ]
  },
  {
   "cell_type": "code",
   "execution_count": 4,
   "id": "f1a3d0a1-f94e-4bb0-878e-7c77d758afae",
   "metadata": {},
   "outputs": [],
   "source": [
    "df = pd.read_csv(\"Korean_demographics.csv\")"
   ]
  },
  {
   "cell_type": "markdown",
   "id": "43b160e6-73d2-46b1-a3f8-69f73b1a22a6",
   "metadata": {
    "tags": []
   },
   "source": [
    "### Membuat variabel jumlah record, nama atribut, jumlah atribut dengan tipe objek, jumlah atribut dengan tipe angka dan jumlah atribut yanng punya nilai null.\n",
    "    "
   ]
  },
  {
   "cell_type": "code",
   "execution_count": 2,
   "id": "d4fc8c8c-7228-4ff1-acaf-84824bffb524",
   "metadata": {},
   "outputs": [],
   "source": [
    "info = {\n",
    "    'jml_record': 0,\n",
    "    'atribut': [],\n",
    "    'objek_atribut': 0,\n",
    "    'angka_atribut': 0,\n",
    "    'null_atribut': 0\n",
    "}"
   ]
  },
  {
   "cell_type": "markdown",
   "id": "7229e1d2-57f7-4d7c-91f8-c8bc1a81ebe0",
   "metadata": {},
   "source": [
    "### Memberi nilai pada variabel yang dibuat dari file csv"
   ]
  },
  {
   "cell_type": "code",
   "execution_count": 5,
   "id": "6267154a-983f-455b-b832-53805f618238",
   "metadata": {},
   "outputs": [],
   "source": [
    "info['jml_record'] = df.shape[0]\n",
    "info['atribut'] = list(df.columns.values)\n",
    "info['null_atribut'] = list(df.loc[:, df.isnull().any()].columns)\n",
    "info['objek_atribut'] = list(df.select_dtypes(['object']).columns)\n",
    "info['angka_atribut'] = list(df.select_dtypes(['float64', 'int64']).columns)"
   ]
  },
  {
   "cell_type": "markdown",
   "id": "e273306f-eba8-4498-adfb-2561d1221da4",
   "metadata": {},
   "source": [
    "### Menampilkan Jumlah Record"
   ]
  },
  {
   "cell_type": "code",
   "execution_count": 9,
   "id": "e2523f69-f42a-4573-8080-284dd3298069",
   "metadata": {},
   "outputs": [
    {
     "name": "stdout",
     "output_type": "stream",
     "text": [
      "Jumlah Record : 4860 .\n"
     ]
    }
   ],
   "source": [
    "print(\"Jumlah Record :\",info['jml_record'],'.')"
   ]
  },
  {
   "cell_type": "markdown",
   "id": "f99a8356-2a64-4163-98fc-c683b1b2ca14",
   "metadata": {},
   "source": [
    "### Menampilkan Nama Atribut"
   ]
  },
  {
   "cell_type": "code",
   "execution_count": 10,
   "id": "cda8dca5-ac62-45d8-b347-fbe264ed0759",
   "metadata": {},
   "outputs": [
    {
     "name": "stdout",
     "output_type": "stream",
     "text": [
      "Nama-Nama Atribut : ['Date', 'Region', 'Birth', 'Birth_rate', 'Death', 'Death_rate', 'Divorce', 'Divorce_rate', 'Marriage', 'Marriage_rate', 'Natural_growth', 'Natural_growth_rate'] .\n"
     ]
    }
   ],
   "source": [
    "print(\"Nama-Nama Atribut :\",info['atribut'],'.')"
   ]
  },
  {
   "cell_type": "markdown",
   "id": "bd9748b2-23c2-4c9a-8583-3c930dc0262f",
   "metadata": {},
   "source": [
    "### Menampilkan Jumlah Atribut"
   ]
  },
  {
   "cell_type": "code",
   "execution_count": 14,
   "id": "255a378f-4ace-426f-846d-57669fdfa400",
   "metadata": {},
   "outputs": [
    {
     "name": "stdout",
     "output_type": "stream",
     "text": [
      "Jumlah Semua Atribut : 12 .\n"
     ]
    }
   ],
   "source": [
    "print(\"Jumlah Semua Atribut :\",len(info['atribut']),'.')"
   ]
  },
  {
   "cell_type": "markdown",
   "id": "73c9bc1f-b125-45c5-9aaa-43381245245c",
   "metadata": {},
   "source": [
    "### Menampilkan Jumlah Atribut dengan Tipe Objek"
   ]
  },
  {
   "cell_type": "code",
   "execution_count": 15,
   "id": "f29175ce-792b-4eee-bd94-2382cb00abc0",
   "metadata": {},
   "outputs": [
    {
     "name": "stdout",
     "output_type": "stream",
     "text": [
      "Jumlah Atribut dengan Tipe Objek :  ['Date', 'Region']\n",
      "Jumlah : 2\n"
     ]
    }
   ],
   "source": [
    "print(\"Jumlah Atribut dengan Tipe Objek : \",info['objek_atribut'])\n",
    "print(\"Jumlah :\",len(info['objek_atribut']))"
   ]
  },
  {
   "cell_type": "markdown",
   "id": "c9e1b3db-721f-4df6-bd3e-32b38e6030e1",
   "metadata": {},
   "source": [
    "### Menampilkan Jumlah Atribut dengan Tipe Null"
   ]
  },
  {
   "cell_type": "code",
   "execution_count": 16,
   "id": "c16754fd-0463-4532-8240-c8f972741c5b",
   "metadata": {},
   "outputs": [
    {
     "name": "stdout",
     "output_type": "stream",
     "text": [
      "Jumlah Atribut dengan Tipe Null :  ['Birth', 'Birth_rate', 'Death', 'Death_rate', 'Divorce', 'Divorce_rate', 'Marriage', 'Marriage_rate', 'Natural_growth', 'Natural_growth_rate']\n",
      "Jumlah : 10\n"
     ]
    }
   ],
   "source": [
    "print(\"Jumlah Atribut dengan Tipe Null : \",info['null_atribut'])\n",
    "print(\"Jumlah :\",len(info['null_atribut']))"
   ]
  },
  {
   "cell_type": "markdown",
   "id": "c0bac56a-a3c6-403b-8755-167234b99888",
   "metadata": {},
   "source": [
    "### Menampilkan Jumlah Atribut dengan Tipe Angka"
   ]
  },
  {
   "cell_type": "code",
   "execution_count": 17,
   "id": "eb19b9d1-f70d-407b-af74-bbeabc159062",
   "metadata": {},
   "outputs": [
    {
     "name": "stdout",
     "output_type": "stream",
     "text": [
      "Jumlah Atribut dengan Tipe Angka :  ['Birth', 'Birth_rate', 'Death', 'Death_rate', 'Divorce', 'Divorce_rate', 'Marriage', 'Marriage_rate', 'Natural_growth', 'Natural_growth_rate']\n",
      "Jumlah : 10\n"
     ]
    }
   ],
   "source": [
    "print(\"Jumlah Atribut dengan Tipe Angka : \",info['angka_atribut'])\n",
    "print(\"Jumlah :\",len(info['angka_atribut']))"
   ]
  },
  {
   "cell_type": "markdown",
   "id": "99751205-1c6b-46b7-9445-5add072e8728",
   "metadata": {},
   "source": [
    "### Menampilkan rata-rata, standar deviasi, nilai minimum, nilai maksimum, Q1, Q2, dan Q3 dari attribute bertipe angka."
   ]
  },
  {
   "cell_type": "code",
   "execution_count": 18,
   "id": "69f4a84f-179b-4d3a-952d-a5e86e620764",
   "metadata": {},
   "outputs": [
    {
     "data": {
      "text/plain": [
       "<bound method NDFrame.describe of           Date             Region    Birth  Birth_rate    Death  Death_rate  \\\n",
       "0     1/1/2000              Busan   3752.0       11.61   1875.0         5.8   \n",
       "1     1/1/2000  Chungcheongbuk-do   1903.0       15.06    924.0         7.3   \n",
       "2     1/1/2000  Chungcheongnam-do   2398.0       14.75   1466.0         9.0   \n",
       "3     1/1/2000              Daegu   3057.0       14.39   1117.0         5.3   \n",
       "4     1/1/2000            Daejeon   1859.0       16.08    565.0         4.9   \n",
       "...        ...                ...      ...         ...      ...         ...   \n",
       "4855  6/1/2022       Jeollanam-do    565.0        3.80   1369.0         9.1   \n",
       "4856  6/1/2022             Sejong    248.0        7.90    106.0         3.4   \n",
       "4857  6/1/2022              Seoul   3137.0        4.10   3631.0         4.7   \n",
       "4858  6/1/2022              Ulsan    443.0        4.80    434.0         4.7   \n",
       "4859  6/1/2022      Whole country  18830.0        4.50  24850.0         5.9   \n",
       "\n",
       "      Divorce  Divorce_rate  Marriage  Marriage_rate  Natural_growth  \\\n",
       "0       814.0           2.5    2435.0            7.5          1877.0   \n",
       "1       220.0           1.7     828.0            6.6           979.0   \n",
       "2       321.0           2.0    1055.0            6.5           932.0   \n",
       "3       422.0           2.0    1577.0            7.4          1940.0   \n",
       "4       280.0           2.4     868.0            7.5          1294.0   \n",
       "...       ...           ...       ...            ...             ...   \n",
       "4855    299.0           2.0     479.0            3.2          -805.0   \n",
       "4856     43.0           1.4     123.0            3.9           141.0   \n",
       "4857   1088.0           1.4    2630.0            3.4          -494.0   \n",
       "4858    154.0           1.7     316.0            3.5             9.0   \n",
       "4859   7586.0           1.8   14898.0            3.5         -6019.0   \n",
       "\n",
       "      Natural_growth_rate  \n",
       "0                     5.8  \n",
       "1                     7.7  \n",
       "2                     5.7  \n",
       "3                     9.1  \n",
       "4                    11.2  \n",
       "...                   ...  \n",
       "4855                 -5.4  \n",
       "4856                  4.5  \n",
       "4857                 -0.6  \n",
       "4858                  0.1  \n",
       "4859                 -1.4  \n",
       "\n",
       "[4860 rows x 12 columns]>"
      ]
     },
     "execution_count": 18,
     "metadata": {},
     "output_type": "execute_result"
    }
   ],
   "source": [
    "df.describe"
   ]
  },
  {
   "cell_type": "markdown",
   "id": "a39992cb-d5f7-454e-a35d-42164458e5e4",
   "metadata": {},
   "source": [
    "### Menampilkan Nilai Korelasi Bertipe Angka"
   ]
  },
  {
   "cell_type": "code",
   "execution_count": 19,
   "id": "622a51f6-3724-4945-8199-b20fbbebeace",
   "metadata": {},
   "outputs": [
    {
     "data": {
      "text/html": [
       "<div>\n",
       "<style scoped>\n",
       "    .dataframe tbody tr th:only-of-type {\n",
       "        vertical-align: middle;\n",
       "    }\n",
       "\n",
       "    .dataframe tbody tr th {\n",
       "        vertical-align: top;\n",
       "    }\n",
       "\n",
       "    .dataframe thead th {\n",
       "        text-align: right;\n",
       "    }\n",
       "</style>\n",
       "<table border=\"1\" class=\"dataframe\">\n",
       "  <thead>\n",
       "    <tr style=\"text-align: right;\">\n",
       "      <th></th>\n",
       "      <th>Birth</th>\n",
       "      <th>Birth_rate</th>\n",
       "      <th>Death</th>\n",
       "      <th>Death_rate</th>\n",
       "      <th>Divorce</th>\n",
       "      <th>Divorce_rate</th>\n",
       "      <th>Marriage</th>\n",
       "      <th>Marriage_rate</th>\n",
       "      <th>Natural_growth</th>\n",
       "      <th>Natural_growth_rate</th>\n",
       "    </tr>\n",
       "  </thead>\n",
       "  <tbody>\n",
       "    <tr>\n",
       "      <th>Birth</th>\n",
       "      <td>1.000000</td>\n",
       "      <td>0.110002</td>\n",
       "      <td>0.934279</td>\n",
       "      <td>-0.181224</td>\n",
       "      <td>0.974835</td>\n",
       "      <td>0.084391</td>\n",
       "      <td>0.966686</td>\n",
       "      <td>0.148506</td>\n",
       "      <td>0.902229</td>\n",
       "      <td>0.167821</td>\n",
       "    </tr>\n",
       "    <tr>\n",
       "      <th>Birth_rate</th>\n",
       "      <td>0.110002</td>\n",
       "      <td>1.000000</td>\n",
       "      <td>-0.045191</td>\n",
       "      <td>-0.341458</td>\n",
       "      <td>0.036455</td>\n",
       "      <td>0.356603</td>\n",
       "      <td>0.050223</td>\n",
       "      <td>0.511153</td>\n",
       "      <td>0.278198</td>\n",
       "      <td>0.889096</td>\n",
       "    </tr>\n",
       "    <tr>\n",
       "      <th>Death</th>\n",
       "      <td>0.934279</td>\n",
       "      <td>-0.045191</td>\n",
       "      <td>1.000000</td>\n",
       "      <td>-0.071622</td>\n",
       "      <td>0.960649</td>\n",
       "      <td>-0.000593</td>\n",
       "      <td>0.942133</td>\n",
       "      <td>0.049359</td>\n",
       "      <td>0.689173</td>\n",
       "      <td>0.002215</td>\n",
       "    </tr>\n",
       "    <tr>\n",
       "      <th>Death_rate</th>\n",
       "      <td>-0.181224</td>\n",
       "      <td>-0.341458</td>\n",
       "      <td>-0.071622</td>\n",
       "      <td>1.000000</td>\n",
       "      <td>-0.168498</td>\n",
       "      <td>-0.186864</td>\n",
       "      <td>-0.176636</td>\n",
       "      <td>-0.304388</td>\n",
       "      <td>-0.281653</td>\n",
       "      <td>-0.733623</td>\n",
       "    </tr>\n",
       "    <tr>\n",
       "      <th>Divorce</th>\n",
       "      <td>0.974835</td>\n",
       "      <td>0.036455</td>\n",
       "      <td>0.960649</td>\n",
       "      <td>-0.168498</td>\n",
       "      <td>1.000000</td>\n",
       "      <td>0.109055</td>\n",
       "      <td>0.966750</td>\n",
       "      <td>0.114971</td>\n",
       "      <td>0.819190</td>\n",
       "      <td>0.108527</td>\n",
       "    </tr>\n",
       "    <tr>\n",
       "      <th>Divorce_rate</th>\n",
       "      <td>0.084391</td>\n",
       "      <td>0.356603</td>\n",
       "      <td>-0.000593</td>\n",
       "      <td>-0.186864</td>\n",
       "      <td>0.109055</td>\n",
       "      <td>1.000000</td>\n",
       "      <td>0.061145</td>\n",
       "      <td>0.236258</td>\n",
       "      <td>0.172214</td>\n",
       "      <td>0.348964</td>\n",
       "    </tr>\n",
       "    <tr>\n",
       "      <th>Marriage</th>\n",
       "      <td>0.966686</td>\n",
       "      <td>0.050223</td>\n",
       "      <td>0.942133</td>\n",
       "      <td>-0.176636</td>\n",
       "      <td>0.966750</td>\n",
       "      <td>0.061145</td>\n",
       "      <td>1.000000</td>\n",
       "      <td>0.203672</td>\n",
       "      <td>0.825026</td>\n",
       "      <td>0.122346</td>\n",
       "    </tr>\n",
       "    <tr>\n",
       "      <th>Marriage_rate</th>\n",
       "      <td>0.148506</td>\n",
       "      <td>0.511153</td>\n",
       "      <td>0.049359</td>\n",
       "      <td>-0.304388</td>\n",
       "      <td>0.114971</td>\n",
       "      <td>0.236258</td>\n",
       "      <td>0.203672</td>\n",
       "      <td>1.000000</td>\n",
       "      <td>0.242091</td>\n",
       "      <td>0.517577</td>\n",
       "    </tr>\n",
       "    <tr>\n",
       "      <th>Natural_growth</th>\n",
       "      <td>0.902229</td>\n",
       "      <td>0.278198</td>\n",
       "      <td>0.689173</td>\n",
       "      <td>-0.281653</td>\n",
       "      <td>0.819190</td>\n",
       "      <td>0.172214</td>\n",
       "      <td>0.825026</td>\n",
       "      <td>0.242091</td>\n",
       "      <td>1.000000</td>\n",
       "      <td>0.338361</td>\n",
       "    </tr>\n",
       "    <tr>\n",
       "      <th>Natural_growth_rate</th>\n",
       "      <td>0.167821</td>\n",
       "      <td>0.889096</td>\n",
       "      <td>0.002215</td>\n",
       "      <td>-0.733623</td>\n",
       "      <td>0.108527</td>\n",
       "      <td>0.348964</td>\n",
       "      <td>0.122346</td>\n",
       "      <td>0.517577</td>\n",
       "      <td>0.338361</td>\n",
       "      <td>1.000000</td>\n",
       "    </tr>\n",
       "  </tbody>\n",
       "</table>\n",
       "</div>"
      ],
      "text/plain": [
       "                        Birth  Birth_rate     Death  Death_rate   Divorce  \\\n",
       "Birth                1.000000    0.110002  0.934279   -0.181224  0.974835   \n",
       "Birth_rate           0.110002    1.000000 -0.045191   -0.341458  0.036455   \n",
       "Death                0.934279   -0.045191  1.000000   -0.071622  0.960649   \n",
       "Death_rate          -0.181224   -0.341458 -0.071622    1.000000 -0.168498   \n",
       "Divorce              0.974835    0.036455  0.960649   -0.168498  1.000000   \n",
       "Divorce_rate         0.084391    0.356603 -0.000593   -0.186864  0.109055   \n",
       "Marriage             0.966686    0.050223  0.942133   -0.176636  0.966750   \n",
       "Marriage_rate        0.148506    0.511153  0.049359   -0.304388  0.114971   \n",
       "Natural_growth       0.902229    0.278198  0.689173   -0.281653  0.819190   \n",
       "Natural_growth_rate  0.167821    0.889096  0.002215   -0.733623  0.108527   \n",
       "\n",
       "                     Divorce_rate  Marriage  Marriage_rate  Natural_growth  \\\n",
       "Birth                    0.084391  0.966686       0.148506        0.902229   \n",
       "Birth_rate               0.356603  0.050223       0.511153        0.278198   \n",
       "Death                   -0.000593  0.942133       0.049359        0.689173   \n",
       "Death_rate              -0.186864 -0.176636      -0.304388       -0.281653   \n",
       "Divorce                  0.109055  0.966750       0.114971        0.819190   \n",
       "Divorce_rate             1.000000  0.061145       0.236258        0.172214   \n",
       "Marriage                 0.061145  1.000000       0.203672        0.825026   \n",
       "Marriage_rate            0.236258  0.203672       1.000000        0.242091   \n",
       "Natural_growth           0.172214  0.825026       0.242091        1.000000   \n",
       "Natural_growth_rate      0.348964  0.122346       0.517577        0.338361   \n",
       "\n",
       "                     Natural_growth_rate  \n",
       "Birth                           0.167821  \n",
       "Birth_rate                      0.889096  \n",
       "Death                           0.002215  \n",
       "Death_rate                     -0.733623  \n",
       "Divorce                         0.108527  \n",
       "Divorce_rate                    0.348964  \n",
       "Marriage                        0.122346  \n",
       "Marriage_rate                   0.517577  \n",
       "Natural_growth                  0.338361  \n",
       "Natural_growth_rate             1.000000  "
      ]
     },
     "execution_count": 19,
     "metadata": {},
     "output_type": "execute_result"
    }
   ],
   "source": [
    "df.corr()"
   ]
  },
  {
   "cell_type": "markdown",
   "id": "8c8dd52a-6ed0-4e5c-a3fd-9a41431f6656",
   "metadata": {},
   "source": [
    "### Mengubah Atribut menjadi Desimal"
   ]
  },
  {
   "cell_type": "markdown",
   "id": "8e5a64fb-9462-4c6b-bc22-2000718d6d3b",
   "metadata": {},
   "source": [
    "#### Sebelum merubah atribut 'Birth'"
   ]
  },
  {
   "cell_type": "code",
   "execution_count": 22,
   "id": "0e2eac42-a5ee-4046-821c-18ed4f1f56e2",
   "metadata": {},
   "outputs": [
    {
     "data": {
      "text/plain": [
       "Date                    object\n",
       "Region                  object\n",
       "Birth                  float64\n",
       "Birth_rate             float64\n",
       "Death                  float64\n",
       "Death_rate             float64\n",
       "Divorce                float64\n",
       "Divorce_rate           float64\n",
       "Marriage               float64\n",
       "Marriage_rate          float64\n",
       "Natural_growth         float64\n",
       "Natural_growth_rate    float64\n",
       "dtype: object"
      ]
     },
     "execution_count": 22,
     "metadata": {},
     "output_type": "execute_result"
    }
   ],
   "source": [
    "df.dtypes"
   ]
  },
  {
   "cell_type": "code",
   "execution_count": 35,
   "id": "b9ac0bf2-e1af-4fb1-8f87-a45378c42327",
   "metadata": {},
   "outputs": [
    {
     "data": {
      "text/plain": [
       "0        3.752\n",
       "1        1.903\n",
       "2        2.398\n",
       "3        3.057\n",
       "4        1.859\n",
       "         ...  \n",
       "4855     0.565\n",
       "4856     0.248\n",
       "4857     3.137\n",
       "4858     0.443\n",
       "4859    18.830\n",
       "Name: Birth, Length: 4860, dtype: float64"
      ]
     },
     "execution_count": 35,
     "metadata": {},
     "output_type": "execute_result"
    }
   ],
   "source": [
    "df['Birth'] = df['Birth'].astype('float64')/1000\n",
    "df['Birth']"
   ]
  },
  {
   "cell_type": "markdown",
   "id": "5a0a7385-84b1-472a-8939-aad264dffe63",
   "metadata": {},
   "source": [
    "#### Sesudah merubah atribut 'Birth'"
   ]
  },
  {
   "cell_type": "code",
   "execution_count": 28,
   "id": "d0786ad4-f640-467b-9dab-a34f59d93b18",
   "metadata": {},
   "outputs": [
    {
     "data": {
      "text/html": [
       "<div>\n",
       "<style scoped>\n",
       "    .dataframe tbody tr th:only-of-type {\n",
       "        vertical-align: middle;\n",
       "    }\n",
       "\n",
       "    .dataframe tbody tr th {\n",
       "        vertical-align: top;\n",
       "    }\n",
       "\n",
       "    .dataframe thead th {\n",
       "        text-align: right;\n",
       "    }\n",
       "</style>\n",
       "<table border=\"1\" class=\"dataframe\">\n",
       "  <thead>\n",
       "    <tr style=\"text-align: right;\">\n",
       "      <th></th>\n",
       "      <th>Date</th>\n",
       "      <th>Region</th>\n",
       "      <th>Birth</th>\n",
       "      <th>Birth_rate</th>\n",
       "      <th>Death</th>\n",
       "      <th>Death_rate</th>\n",
       "      <th>Divorce</th>\n",
       "      <th>Divorce_rate</th>\n",
       "      <th>Marriage</th>\n",
       "      <th>Marriage_rate</th>\n",
       "      <th>Natural_growth</th>\n",
       "      <th>Natural_growth_rate</th>\n",
       "    </tr>\n",
       "  </thead>\n",
       "  <tbody>\n",
       "    <tr>\n",
       "      <th>0</th>\n",
       "      <td>1/1/2000</td>\n",
       "      <td>Busan</td>\n",
       "      <td>3752.0</td>\n",
       "      <td>11.61</td>\n",
       "      <td>1875.0</td>\n",
       "      <td>5.8</td>\n",
       "      <td>814.0</td>\n",
       "      <td>2.5</td>\n",
       "      <td>2435.0</td>\n",
       "      <td>7.5</td>\n",
       "      <td>1877.0</td>\n",
       "      <td>5.8</td>\n",
       "    </tr>\n",
       "    <tr>\n",
       "      <th>1</th>\n",
       "      <td>1/1/2000</td>\n",
       "      <td>Chungcheongbuk-do</td>\n",
       "      <td>1903.0</td>\n",
       "      <td>15.06</td>\n",
       "      <td>924.0</td>\n",
       "      <td>7.3</td>\n",
       "      <td>220.0</td>\n",
       "      <td>1.7</td>\n",
       "      <td>828.0</td>\n",
       "      <td>6.6</td>\n",
       "      <td>979.0</td>\n",
       "      <td>7.7</td>\n",
       "    </tr>\n",
       "    <tr>\n",
       "      <th>2</th>\n",
       "      <td>1/1/2000</td>\n",
       "      <td>Chungcheongnam-do</td>\n",
       "      <td>2398.0</td>\n",
       "      <td>14.75</td>\n",
       "      <td>1466.0</td>\n",
       "      <td>9.0</td>\n",
       "      <td>321.0</td>\n",
       "      <td>2.0</td>\n",
       "      <td>1055.0</td>\n",
       "      <td>6.5</td>\n",
       "      <td>932.0</td>\n",
       "      <td>5.7</td>\n",
       "    </tr>\n",
       "    <tr>\n",
       "      <th>3</th>\n",
       "      <td>1/1/2000</td>\n",
       "      <td>Daegu</td>\n",
       "      <td>3057.0</td>\n",
       "      <td>14.39</td>\n",
       "      <td>1117.0</td>\n",
       "      <td>5.3</td>\n",
       "      <td>422.0</td>\n",
       "      <td>2.0</td>\n",
       "      <td>1577.0</td>\n",
       "      <td>7.4</td>\n",
       "      <td>1940.0</td>\n",
       "      <td>9.1</td>\n",
       "    </tr>\n",
       "    <tr>\n",
       "      <th>4</th>\n",
       "      <td>1/1/2000</td>\n",
       "      <td>Daejeon</td>\n",
       "      <td>1859.0</td>\n",
       "      <td>16.08</td>\n",
       "      <td>565.0</td>\n",
       "      <td>4.9</td>\n",
       "      <td>280.0</td>\n",
       "      <td>2.4</td>\n",
       "      <td>868.0</td>\n",
       "      <td>7.5</td>\n",
       "      <td>1294.0</td>\n",
       "      <td>11.2</td>\n",
       "    </tr>\n",
       "    <tr>\n",
       "      <th>5</th>\n",
       "      <td>1/1/2000</td>\n",
       "      <td>Gangwon-do</td>\n",
       "      <td>1966.0</td>\n",
       "      <td>14.91</td>\n",
       "      <td>1067.0</td>\n",
       "      <td>8.1</td>\n",
       "      <td>304.0</td>\n",
       "      <td>2.3</td>\n",
       "      <td>817.0</td>\n",
       "      <td>6.2</td>\n",
       "      <td>899.0</td>\n",
       "      <td>6.8</td>\n",
       "    </tr>\n",
       "    <tr>\n",
       "      <th>6</th>\n",
       "      <td>1/1/2000</td>\n",
       "      <td>Gwangju</td>\n",
       "      <td>2159.0</td>\n",
       "      <td>18.77</td>\n",
       "      <td>606.0</td>\n",
       "      <td>5.3</td>\n",
       "      <td>212.0</td>\n",
       "      <td>1.8</td>\n",
       "      <td>932.0</td>\n",
       "      <td>8.1</td>\n",
       "      <td>1553.0</td>\n",
       "      <td>13.5</td>\n",
       "    </tr>\n",
       "    <tr>\n",
       "      <th>7</th>\n",
       "      <td>1/1/2000</td>\n",
       "      <td>Gyeonggi-do</td>\n",
       "      <td>13527.0</td>\n",
       "      <td>17.85</td>\n",
       "      <td>3770.0</td>\n",
       "      <td>5.0</td>\n",
       "      <td>1931.0</td>\n",
       "      <td>2.5</td>\n",
       "      <td>5759.0</td>\n",
       "      <td>7.6</td>\n",
       "      <td>9757.0</td>\n",
       "      <td>12.9</td>\n",
       "    </tr>\n",
       "    <tr>\n",
       "      <th>8</th>\n",
       "      <td>1/1/2000</td>\n",
       "      <td>Gyeongsangbuk-do</td>\n",
       "      <td>3362.0</td>\n",
       "      <td>14.14</td>\n",
       "      <td>2230.0</td>\n",
       "      <td>9.4</td>\n",
       "      <td>406.0</td>\n",
       "      <td>1.7</td>\n",
       "      <td>1691.0</td>\n",
       "      <td>7.1</td>\n",
       "      <td>1132.0</td>\n",
       "      <td>4.8</td>\n",
       "    </tr>\n",
       "    <tr>\n",
       "      <th>9</th>\n",
       "      <td>1/1/2000</td>\n",
       "      <td>Gyeongsangnam-do</td>\n",
       "      <td>3928.0</td>\n",
       "      <td>15.05</td>\n",
       "      <td>2125.0</td>\n",
       "      <td>8.1</td>\n",
       "      <td>577.0</td>\n",
       "      <td>2.2</td>\n",
       "      <td>2092.0</td>\n",
       "      <td>8.0</td>\n",
       "      <td>1803.0</td>\n",
       "      <td>6.9</td>\n",
       "    </tr>\n",
       "  </tbody>\n",
       "</table>\n",
       "</div>"
      ],
      "text/plain": [
       "       Date             Region    Birth  Birth_rate   Death  Death_rate  \\\n",
       "0  1/1/2000              Busan   3752.0       11.61  1875.0         5.8   \n",
       "1  1/1/2000  Chungcheongbuk-do   1903.0       15.06   924.0         7.3   \n",
       "2  1/1/2000  Chungcheongnam-do   2398.0       14.75  1466.0         9.0   \n",
       "3  1/1/2000              Daegu   3057.0       14.39  1117.0         5.3   \n",
       "4  1/1/2000            Daejeon   1859.0       16.08   565.0         4.9   \n",
       "5  1/1/2000         Gangwon-do   1966.0       14.91  1067.0         8.1   \n",
       "6  1/1/2000            Gwangju   2159.0       18.77   606.0         5.3   \n",
       "7  1/1/2000        Gyeonggi-do  13527.0       17.85  3770.0         5.0   \n",
       "8  1/1/2000   Gyeongsangbuk-do   3362.0       14.14  2230.0         9.4   \n",
       "9  1/1/2000   Gyeongsangnam-do   3928.0       15.05  2125.0         8.1   \n",
       "\n",
       "   Divorce  Divorce_rate  Marriage  Marriage_rate  Natural_growth  \\\n",
       "0    814.0           2.5    2435.0            7.5          1877.0   \n",
       "1    220.0           1.7     828.0            6.6           979.0   \n",
       "2    321.0           2.0    1055.0            6.5           932.0   \n",
       "3    422.0           2.0    1577.0            7.4          1940.0   \n",
       "4    280.0           2.4     868.0            7.5          1294.0   \n",
       "5    304.0           2.3     817.0            6.2           899.0   \n",
       "6    212.0           1.8     932.0            8.1          1553.0   \n",
       "7   1931.0           2.5    5759.0            7.6          9757.0   \n",
       "8    406.0           1.7    1691.0            7.1          1132.0   \n",
       "9    577.0           2.2    2092.0            8.0          1803.0   \n",
       "\n",
       "   Natural_growth_rate  \n",
       "0                  5.8  \n",
       "1                  7.7  \n",
       "2                  5.7  \n",
       "3                  9.1  \n",
       "4                 11.2  \n",
       "5                  6.8  \n",
       "6                 13.5  \n",
       "7                 12.9  \n",
       "8                  4.8  \n",
       "9                  6.9  "
      ]
     },
     "execution_count": 28,
     "metadata": {},
     "output_type": "execute_result"
    }
   ],
   "source": [
    "df.head(10)"
   ]
  },
  {
   "cell_type": "code",
   "execution_count": 33,
   "id": "7855789f-99d5-4257-afa2-17ceb13a5cf9",
   "metadata": {},
   "outputs": [
    {
     "data": {
      "text/plain": [
       "Date                    object\n",
       "Region                  object\n",
       "Birth                  float64\n",
       "Birth_rate             float64\n",
       "Death                  float64\n",
       "Death_rate             float64\n",
       "Divorce                float64\n",
       "Divorce_rate           float64\n",
       "Marriage               float64\n",
       "Marriage_rate          float64\n",
       "Natural_growth         float64\n",
       "Natural_growth_rate    float64\n",
       "dtype: object"
      ]
     },
     "execution_count": 33,
     "metadata": {},
     "output_type": "execute_result"
    }
   ],
   "source": [
    "df.dtypes"
   ]
  },
  {
   "cell_type": "markdown",
   "id": "a8edc461-f9fd-4730-988b-d79291ae2296",
   "metadata": {},
   "source": [
    "### Menampilkan 10 Record pertama Atribut Angka"
   ]
  },
  {
   "cell_type": "code",
   "execution_count": 34,
   "id": "19c7bc61-924d-4bdb-afa4-9078342c86b5",
   "metadata": {},
   "outputs": [
    {
     "data": {
      "text/html": [
       "<div>\n",
       "<style scoped>\n",
       "    .dataframe tbody tr th:only-of-type {\n",
       "        vertical-align: middle;\n",
       "    }\n",
       "\n",
       "    .dataframe tbody tr th {\n",
       "        vertical-align: top;\n",
       "    }\n",
       "\n",
       "    .dataframe thead th {\n",
       "        text-align: right;\n",
       "    }\n",
       "</style>\n",
       "<table border=\"1\" class=\"dataframe\">\n",
       "  <thead>\n",
       "    <tr style=\"text-align: right;\">\n",
       "      <th></th>\n",
       "      <th>Birth</th>\n",
       "      <th>Birth_rate</th>\n",
       "      <th>Death</th>\n",
       "      <th>Death_rate</th>\n",
       "      <th>Divorce</th>\n",
       "      <th>Divorce_rate</th>\n",
       "      <th>Marriage</th>\n",
       "      <th>Marriage_rate</th>\n",
       "      <th>Natural_growth</th>\n",
       "      <th>Natural_growth_rate</th>\n",
       "    </tr>\n",
       "  </thead>\n",
       "  <tbody>\n",
       "    <tr>\n",
       "      <th>0</th>\n",
       "      <td>3752.0</td>\n",
       "      <td>11.61</td>\n",
       "      <td>1875.0</td>\n",
       "      <td>5.8</td>\n",
       "      <td>814.0</td>\n",
       "      <td>2.5</td>\n",
       "      <td>2435.0</td>\n",
       "      <td>7.5</td>\n",
       "      <td>1877.0</td>\n",
       "      <td>5.8</td>\n",
       "    </tr>\n",
       "    <tr>\n",
       "      <th>1</th>\n",
       "      <td>1903.0</td>\n",
       "      <td>15.06</td>\n",
       "      <td>924.0</td>\n",
       "      <td>7.3</td>\n",
       "      <td>220.0</td>\n",
       "      <td>1.7</td>\n",
       "      <td>828.0</td>\n",
       "      <td>6.6</td>\n",
       "      <td>979.0</td>\n",
       "      <td>7.7</td>\n",
       "    </tr>\n",
       "    <tr>\n",
       "      <th>2</th>\n",
       "      <td>2398.0</td>\n",
       "      <td>14.75</td>\n",
       "      <td>1466.0</td>\n",
       "      <td>9.0</td>\n",
       "      <td>321.0</td>\n",
       "      <td>2.0</td>\n",
       "      <td>1055.0</td>\n",
       "      <td>6.5</td>\n",
       "      <td>932.0</td>\n",
       "      <td>5.7</td>\n",
       "    </tr>\n",
       "    <tr>\n",
       "      <th>3</th>\n",
       "      <td>3057.0</td>\n",
       "      <td>14.39</td>\n",
       "      <td>1117.0</td>\n",
       "      <td>5.3</td>\n",
       "      <td>422.0</td>\n",
       "      <td>2.0</td>\n",
       "      <td>1577.0</td>\n",
       "      <td>7.4</td>\n",
       "      <td>1940.0</td>\n",
       "      <td>9.1</td>\n",
       "    </tr>\n",
       "    <tr>\n",
       "      <th>4</th>\n",
       "      <td>1859.0</td>\n",
       "      <td>16.08</td>\n",
       "      <td>565.0</td>\n",
       "      <td>4.9</td>\n",
       "      <td>280.0</td>\n",
       "      <td>2.4</td>\n",
       "      <td>868.0</td>\n",
       "      <td>7.5</td>\n",
       "      <td>1294.0</td>\n",
       "      <td>11.2</td>\n",
       "    </tr>\n",
       "    <tr>\n",
       "      <th>5</th>\n",
       "      <td>1966.0</td>\n",
       "      <td>14.91</td>\n",
       "      <td>1067.0</td>\n",
       "      <td>8.1</td>\n",
       "      <td>304.0</td>\n",
       "      <td>2.3</td>\n",
       "      <td>817.0</td>\n",
       "      <td>6.2</td>\n",
       "      <td>899.0</td>\n",
       "      <td>6.8</td>\n",
       "    </tr>\n",
       "    <tr>\n",
       "      <th>6</th>\n",
       "      <td>2159.0</td>\n",
       "      <td>18.77</td>\n",
       "      <td>606.0</td>\n",
       "      <td>5.3</td>\n",
       "      <td>212.0</td>\n",
       "      <td>1.8</td>\n",
       "      <td>932.0</td>\n",
       "      <td>8.1</td>\n",
       "      <td>1553.0</td>\n",
       "      <td>13.5</td>\n",
       "    </tr>\n",
       "    <tr>\n",
       "      <th>7</th>\n",
       "      <td>13527.0</td>\n",
       "      <td>17.85</td>\n",
       "      <td>3770.0</td>\n",
       "      <td>5.0</td>\n",
       "      <td>1931.0</td>\n",
       "      <td>2.5</td>\n",
       "      <td>5759.0</td>\n",
       "      <td>7.6</td>\n",
       "      <td>9757.0</td>\n",
       "      <td>12.9</td>\n",
       "    </tr>\n",
       "    <tr>\n",
       "      <th>8</th>\n",
       "      <td>3362.0</td>\n",
       "      <td>14.14</td>\n",
       "      <td>2230.0</td>\n",
       "      <td>9.4</td>\n",
       "      <td>406.0</td>\n",
       "      <td>1.7</td>\n",
       "      <td>1691.0</td>\n",
       "      <td>7.1</td>\n",
       "      <td>1132.0</td>\n",
       "      <td>4.8</td>\n",
       "    </tr>\n",
       "    <tr>\n",
       "      <th>9</th>\n",
       "      <td>3928.0</td>\n",
       "      <td>15.05</td>\n",
       "      <td>2125.0</td>\n",
       "      <td>8.1</td>\n",
       "      <td>577.0</td>\n",
       "      <td>2.2</td>\n",
       "      <td>2092.0</td>\n",
       "      <td>8.0</td>\n",
       "      <td>1803.0</td>\n",
       "      <td>6.9</td>\n",
       "    </tr>\n",
       "  </tbody>\n",
       "</table>\n",
       "</div>"
      ],
      "text/plain": [
       "     Birth  Birth_rate   Death  Death_rate  Divorce  Divorce_rate  Marriage  \\\n",
       "0   3752.0       11.61  1875.0         5.8    814.0           2.5    2435.0   \n",
       "1   1903.0       15.06   924.0         7.3    220.0           1.7     828.0   \n",
       "2   2398.0       14.75  1466.0         9.0    321.0           2.0    1055.0   \n",
       "3   3057.0       14.39  1117.0         5.3    422.0           2.0    1577.0   \n",
       "4   1859.0       16.08   565.0         4.9    280.0           2.4     868.0   \n",
       "5   1966.0       14.91  1067.0         8.1    304.0           2.3     817.0   \n",
       "6   2159.0       18.77   606.0         5.3    212.0           1.8     932.0   \n",
       "7  13527.0       17.85  3770.0         5.0   1931.0           2.5    5759.0   \n",
       "8   3362.0       14.14  2230.0         9.4    406.0           1.7    1691.0   \n",
       "9   3928.0       15.05  2125.0         8.1    577.0           2.2    2092.0   \n",
       "\n",
       "   Marriage_rate  Natural_growth  Natural_growth_rate  \n",
       "0            7.5          1877.0                  5.8  \n",
       "1            6.6           979.0                  7.7  \n",
       "2            6.5           932.0                  5.7  \n",
       "3            7.4          1940.0                  9.1  \n",
       "4            7.5          1294.0                 11.2  \n",
       "5            6.2           899.0                  6.8  \n",
       "6            8.1          1553.0                 13.5  \n",
       "7            7.6          9757.0                 12.9  \n",
       "8            7.1          1132.0                  4.8  \n",
       "9            8.0          1803.0                  6.9  "
      ]
     },
     "execution_count": 34,
     "metadata": {},
     "output_type": "execute_result"
    }
   ],
   "source": [
    "dh = df.select_dtypes(include=np.number)\n",
    "dh.head(10)"
   ]
  },
  {
   "cell_type": "markdown",
   "id": "f5baffc0-3fc3-4855-9a48-20adb8ef08f5",
   "metadata": {},
   "source": [
    "Menyimpan dataset bertipe angka de dalam file csv"
   ]
  },
  {
   "cell_type": "code",
   "execution_count": 38,
   "id": "587a9fc7-3fa6-4735-8188-d16bb329aa15",
   "metadata": {},
   "outputs": [],
   "source": [
    "df[['Birth','Birth_rate','Death','Death_rate','Divorce','Divorce_rate','Marriage','Marriage_rate','Natural_growth','Natural_growth_rate']].to_csv(\"hanya_atribut_angka.csv\")"
   ]
  },
  {
   "cell_type": "code",
   "execution_count": null,
   "id": "1f974e9c-4233-41da-abce-67586446aee5",
   "metadata": {},
   "outputs": [],
   "source": []
  }
 ],
 "metadata": {
  "kernelspec": {
   "display_name": "Rafi_053",
   "language": "python",
   "name": "rafi_053"
  },
  "language_info": {
   "codemirror_mode": {
    "name": "ipython",
    "version": 3
   },
   "file_extension": ".py",
   "mimetype": "text/x-python",
   "name": "python",
   "nbconvert_exporter": "python",
   "pygments_lexer": "ipython3",
   "version": "3.10.7"
  }
 },
 "nbformat": 4,
 "nbformat_minor": 5
}
