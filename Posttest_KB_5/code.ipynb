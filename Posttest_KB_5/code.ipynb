{
 "cells": [
  {
   "cell_type": "markdown",
   "id": "96a2b8e2-dd08-41e4-aee5-92937501f05d",
   "metadata": {},
   "source": [
    "## Import library"
   ]
  },
  {
   "cell_type": "code",
   "execution_count": 75,
   "id": "0c7aaa81-432b-4c9b-8140-c23caf230780",
   "metadata": {},
   "outputs": [],
   "source": [
    "import numpy as np\n",
    "import seaborn as sns\n",
    "import pandas as pd \n",
    "import matplotlib.pyplot as plt\n",
    "from sklearn.preprocessing import StandardScaler \n",
    "from sklearn.impute import SimpleImputer\n",
    "from sklearn.model_selection import train_test_split\n",
    "from sklearn.neighbors import KNeighborsClassifier\n",
    "from sklearn.naive_bayes import GaussianNB\n",
    "from sklearn.metrics import accuracy_score\n",
    "from sklearn.tree import DecisionTreeClassifier\n",
    "from sklearn import tree"
   ]
  },
  {
   "cell_type": "markdown",
   "id": "52f9b9e0-690e-4022-8440-532e7c0dba5f",
   "metadata": {},
   "source": [
    "## Import Dataset"
   ]
  },
  {
   "cell_type": "code",
   "execution_count": 76,
   "id": "4f6d2815-bf3f-471b-8822-1122be67f99d",
   "metadata": {},
   "outputs": [],
   "source": [
    "data_awal = pd.read_csv(\"Korean_demographics.csv\")"
   ]
  },
  {
   "cell_type": "code",
   "execution_count": 77,
   "id": "4143b033-4933-477e-a299-76ae27f842b3",
   "metadata": {},
   "outputs": [
    {
     "data": {
      "text/html": [
       "<div>\n",
       "<style scoped>\n",
       "    .dataframe tbody tr th:only-of-type {\n",
       "        vertical-align: middle;\n",
       "    }\n",
       "\n",
       "    .dataframe tbody tr th {\n",
       "        vertical-align: top;\n",
       "    }\n",
       "\n",
       "    .dataframe thead th {\n",
       "        text-align: right;\n",
       "    }\n",
       "</style>\n",
       "<table border=\"1\" class=\"dataframe\">\n",
       "  <thead>\n",
       "    <tr style=\"text-align: right;\">\n",
       "      <th></th>\n",
       "      <th>Date</th>\n",
       "      <th>Region</th>\n",
       "      <th>Birth</th>\n",
       "      <th>Birth_rate</th>\n",
       "      <th>Death</th>\n",
       "      <th>Death_rate</th>\n",
       "      <th>Divorce</th>\n",
       "      <th>Divorce_rate</th>\n",
       "      <th>Marriage</th>\n",
       "      <th>Marriage_rate</th>\n",
       "      <th>Natural_growth</th>\n",
       "      <th>Natural_growth_rate</th>\n",
       "    </tr>\n",
       "  </thead>\n",
       "  <tbody>\n",
       "    <tr>\n",
       "      <th>0</th>\n",
       "      <td>1/1/2000</td>\n",
       "      <td>Busan</td>\n",
       "      <td>3752.0</td>\n",
       "      <td>11.61</td>\n",
       "      <td>1875.0</td>\n",
       "      <td>5.8</td>\n",
       "      <td>814.0</td>\n",
       "      <td>2.5</td>\n",
       "      <td>2435.0</td>\n",
       "      <td>7.5</td>\n",
       "      <td>1877.0</td>\n",
       "      <td>5.8</td>\n",
       "    </tr>\n",
       "    <tr>\n",
       "      <th>1</th>\n",
       "      <td>1/1/2000</td>\n",
       "      <td>Chungcheongbuk-do</td>\n",
       "      <td>1903.0</td>\n",
       "      <td>15.06</td>\n",
       "      <td>924.0</td>\n",
       "      <td>7.3</td>\n",
       "      <td>220.0</td>\n",
       "      <td>1.7</td>\n",
       "      <td>828.0</td>\n",
       "      <td>6.6</td>\n",
       "      <td>979.0</td>\n",
       "      <td>7.7</td>\n",
       "    </tr>\n",
       "    <tr>\n",
       "      <th>2</th>\n",
       "      <td>1/1/2000</td>\n",
       "      <td>Chungcheongnam-do</td>\n",
       "      <td>2398.0</td>\n",
       "      <td>14.75</td>\n",
       "      <td>1466.0</td>\n",
       "      <td>9.0</td>\n",
       "      <td>321.0</td>\n",
       "      <td>2.0</td>\n",
       "      <td>1055.0</td>\n",
       "      <td>6.5</td>\n",
       "      <td>932.0</td>\n",
       "      <td>5.7</td>\n",
       "    </tr>\n",
       "    <tr>\n",
       "      <th>3</th>\n",
       "      <td>1/1/2000</td>\n",
       "      <td>Daegu</td>\n",
       "      <td>3057.0</td>\n",
       "      <td>14.39</td>\n",
       "      <td>1117.0</td>\n",
       "      <td>5.3</td>\n",
       "      <td>422.0</td>\n",
       "      <td>2.0</td>\n",
       "      <td>1577.0</td>\n",
       "      <td>7.4</td>\n",
       "      <td>1940.0</td>\n",
       "      <td>9.1</td>\n",
       "    </tr>\n",
       "    <tr>\n",
       "      <th>4</th>\n",
       "      <td>1/1/2000</td>\n",
       "      <td>Daejeon</td>\n",
       "      <td>1859.0</td>\n",
       "      <td>16.08</td>\n",
       "      <td>565.0</td>\n",
       "      <td>4.9</td>\n",
       "      <td>280.0</td>\n",
       "      <td>2.4</td>\n",
       "      <td>868.0</td>\n",
       "      <td>7.5</td>\n",
       "      <td>1294.0</td>\n",
       "      <td>11.2</td>\n",
       "    </tr>\n",
       "    <tr>\n",
       "      <th>5</th>\n",
       "      <td>1/1/2000</td>\n",
       "      <td>Gangwon-do</td>\n",
       "      <td>1966.0</td>\n",
       "      <td>14.91</td>\n",
       "      <td>1067.0</td>\n",
       "      <td>8.1</td>\n",
       "      <td>304.0</td>\n",
       "      <td>2.3</td>\n",
       "      <td>817.0</td>\n",
       "      <td>6.2</td>\n",
       "      <td>899.0</td>\n",
       "      <td>6.8</td>\n",
       "    </tr>\n",
       "    <tr>\n",
       "      <th>6</th>\n",
       "      <td>1/1/2000</td>\n",
       "      <td>Gwangju</td>\n",
       "      <td>2159.0</td>\n",
       "      <td>18.77</td>\n",
       "      <td>606.0</td>\n",
       "      <td>5.3</td>\n",
       "      <td>212.0</td>\n",
       "      <td>1.8</td>\n",
       "      <td>932.0</td>\n",
       "      <td>8.1</td>\n",
       "      <td>1553.0</td>\n",
       "      <td>13.5</td>\n",
       "    </tr>\n",
       "    <tr>\n",
       "      <th>7</th>\n",
       "      <td>1/1/2000</td>\n",
       "      <td>Gyeonggi-do</td>\n",
       "      <td>13527.0</td>\n",
       "      <td>17.85</td>\n",
       "      <td>3770.0</td>\n",
       "      <td>5.0</td>\n",
       "      <td>1931.0</td>\n",
       "      <td>2.5</td>\n",
       "      <td>5759.0</td>\n",
       "      <td>7.6</td>\n",
       "      <td>9757.0</td>\n",
       "      <td>12.9</td>\n",
       "    </tr>\n",
       "    <tr>\n",
       "      <th>8</th>\n",
       "      <td>1/1/2000</td>\n",
       "      <td>Gyeongsangbuk-do</td>\n",
       "      <td>3362.0</td>\n",
       "      <td>14.14</td>\n",
       "      <td>2230.0</td>\n",
       "      <td>9.4</td>\n",
       "      <td>406.0</td>\n",
       "      <td>1.7</td>\n",
       "      <td>1691.0</td>\n",
       "      <td>7.1</td>\n",
       "      <td>1132.0</td>\n",
       "      <td>4.8</td>\n",
       "    </tr>\n",
       "    <tr>\n",
       "      <th>9</th>\n",
       "      <td>1/1/2000</td>\n",
       "      <td>Gyeongsangnam-do</td>\n",
       "      <td>3928.0</td>\n",
       "      <td>15.05</td>\n",
       "      <td>2125.0</td>\n",
       "      <td>8.1</td>\n",
       "      <td>577.0</td>\n",
       "      <td>2.2</td>\n",
       "      <td>2092.0</td>\n",
       "      <td>8.0</td>\n",
       "      <td>1803.0</td>\n",
       "      <td>6.9</td>\n",
       "    </tr>\n",
       "  </tbody>\n",
       "</table>\n",
       "</div>"
      ],
      "text/plain": [
       "       Date             Region    Birth  Birth_rate   Death  Death_rate  \\\n",
       "0  1/1/2000              Busan   3752.0       11.61  1875.0         5.8   \n",
       "1  1/1/2000  Chungcheongbuk-do   1903.0       15.06   924.0         7.3   \n",
       "2  1/1/2000  Chungcheongnam-do   2398.0       14.75  1466.0         9.0   \n",
       "3  1/1/2000              Daegu   3057.0       14.39  1117.0         5.3   \n",
       "4  1/1/2000            Daejeon   1859.0       16.08   565.0         4.9   \n",
       "5  1/1/2000         Gangwon-do   1966.0       14.91  1067.0         8.1   \n",
       "6  1/1/2000            Gwangju   2159.0       18.77   606.0         5.3   \n",
       "7  1/1/2000        Gyeonggi-do  13527.0       17.85  3770.0         5.0   \n",
       "8  1/1/2000   Gyeongsangbuk-do   3362.0       14.14  2230.0         9.4   \n",
       "9  1/1/2000   Gyeongsangnam-do   3928.0       15.05  2125.0         8.1   \n",
       "\n",
       "   Divorce  Divorce_rate  Marriage  Marriage_rate  Natural_growth  \\\n",
       "0    814.0           2.5    2435.0            7.5          1877.0   \n",
       "1    220.0           1.7     828.0            6.6           979.0   \n",
       "2    321.0           2.0    1055.0            6.5           932.0   \n",
       "3    422.0           2.0    1577.0            7.4          1940.0   \n",
       "4    280.0           2.4     868.0            7.5          1294.0   \n",
       "5    304.0           2.3     817.0            6.2           899.0   \n",
       "6    212.0           1.8     932.0            8.1          1553.0   \n",
       "7   1931.0           2.5    5759.0            7.6          9757.0   \n",
       "8    406.0           1.7    1691.0            7.1          1132.0   \n",
       "9    577.0           2.2    2092.0            8.0          1803.0   \n",
       "\n",
       "   Natural_growth_rate  \n",
       "0                  5.8  \n",
       "1                  7.7  \n",
       "2                  5.7  \n",
       "3                  9.1  \n",
       "4                 11.2  \n",
       "5                  6.8  \n",
       "6                 13.5  \n",
       "7                 12.9  \n",
       "8                  4.8  \n",
       "9                  6.9  "
      ]
     },
     "execution_count": 77,
     "metadata": {},
     "output_type": "execute_result"
    }
   ],
   "source": [
    "data_awal.head(10)"
   ]
  },
  {
   "cell_type": "code",
   "execution_count": 78,
   "id": "ac7040fe-c091-4442-beee-6fc9837a732f",
   "metadata": {},
   "outputs": [
    {
     "data": {
      "text/plain": [
       "Date                    object\n",
       "Region                  object\n",
       "Birth                  float64\n",
       "Birth_rate             float64\n",
       "Death                  float64\n",
       "Death_rate             float64\n",
       "Divorce                float64\n",
       "Divorce_rate           float64\n",
       "Marriage               float64\n",
       "Marriage_rate          float64\n",
       "Natural_growth         float64\n",
       "Natural_growth_rate    float64\n",
       "dtype: object"
      ]
     },
     "execution_count": 78,
     "metadata": {},
     "output_type": "execute_result"
    }
   ],
   "source": [
    "data_awal.dtypes"
   ]
  },
  {
   "cell_type": "code",
   "execution_count": 79,
   "id": "73d3b7dc-3481-4c8d-ab94-fbc722086f59",
   "metadata": {},
   "outputs": [
    {
     "data": {
      "text/plain": [
       "Date                     0\n",
       "Region                   0\n",
       "Birth                  144\n",
       "Birth_rate             151\n",
       "Death                  144\n",
       "Death_rate             151\n",
       "Divorce                144\n",
       "Divorce_rate           151\n",
       "Marriage               144\n",
       "Marriage_rate          151\n",
       "Natural_growth         144\n",
       "Natural_growth_rate    151\n",
       "dtype: int64"
      ]
     },
     "execution_count": 79,
     "metadata": {},
     "output_type": "execute_result"
    }
   ],
   "source": [
    "data_awal.isna().sum()"
   ]
  },
  {
   "cell_type": "markdown",
   "id": "2f33c511-11c0-450c-914d-7badbbb4c64e",
   "metadata": {},
   "source": [
    "## Data Cleaning"
   ]
  },
  {
   "cell_type": "code",
   "execution_count": 80,
   "id": "a930037e-7673-4c9b-86c7-d50d973ef7f0",
   "metadata": {},
   "outputs": [],
   "source": [
    "# median untuk bilangan bulat\n",
    "imputer = SimpleImputer(strategy='median')\n",
    "data_awal['Birth'] = imputer.fit_transform(data_awal[['Birth']])\n",
    "data_awal['Death'] = imputer.fit_transform(data_awal[['Death']])\n",
    "data_awal['Divorce'] = imputer.fit_transform(data_awal[['Divorce']])\n",
    "data_awal['Marriage'] = imputer.fit_transform(data_awal[['Marriage']])\n",
    "data_awal['Natural_growth'] = imputer.fit_transform(data_awal[['Natural_growth']])"
   ]
  },
  {
   "cell_type": "code",
   "execution_count": 81,
   "id": "67acd002-c9b4-476c-a029-495bc2291710",
   "metadata": {},
   "outputs": [],
   "source": [
    "# mean untuk bilangan desimal\n",
    "imputer = SimpleImputer(strategy='mean')\n",
    "data_awal['Birth_rate'] = imputer.fit_transform(data_awal[['Birth_rate']])\n",
    "data_awal['Death_rate'] = imputer.fit_transform(data_awal[['Death_rate']])\n",
    "data_awal['Divorce_rate'] = imputer.fit_transform(data_awal[['Divorce_rate']])\n",
    "data_awal['Marriage_rate'] = imputer.fit_transform(data_awal[['Marriage_rate']])  \n",
    "data_awal['Natural_growth_rate'] = imputer.fit_transform(data_awal[['Natural_growth_rate']])  "
   ]
  },
  {
   "cell_type": "code",
   "execution_count": 82,
   "id": "5b93908c-c9e7-4312-92b4-18da066a81bd",
   "metadata": {},
   "outputs": [
    {
     "data": {
      "text/plain": [
       "Date                   0\n",
       "Region                 0\n",
       "Birth                  0\n",
       "Birth_rate             0\n",
       "Death                  0\n",
       "Death_rate             0\n",
       "Divorce                0\n",
       "Divorce_rate           0\n",
       "Marriage               0\n",
       "Marriage_rate          0\n",
       "Natural_growth         0\n",
       "Natural_growth_rate    0\n",
       "dtype: int64"
      ]
     },
     "execution_count": 82,
     "metadata": {},
     "output_type": "execute_result"
    }
   ],
   "source": [
    "data_awal.isna().sum()"
   ]
  },
  {
   "cell_type": "code",
   "execution_count": 83,
   "id": "9c297e37-4a16-4e5c-b1da-0a07ca19e86d",
   "metadata": {},
   "outputs": [
    {
     "data": {
      "text/html": [
       "<div>\n",
       "<style scoped>\n",
       "    .dataframe tbody tr th:only-of-type {\n",
       "        vertical-align: middle;\n",
       "    }\n",
       "\n",
       "    .dataframe tbody tr th {\n",
       "        vertical-align: top;\n",
       "    }\n",
       "\n",
       "    .dataframe thead th {\n",
       "        text-align: right;\n",
       "    }\n",
       "</style>\n",
       "<table border=\"1\" class=\"dataframe\">\n",
       "  <thead>\n",
       "    <tr style=\"text-align: right;\">\n",
       "      <th></th>\n",
       "      <th>Date</th>\n",
       "      <th>Region</th>\n",
       "      <th>Birth</th>\n",
       "      <th>Birth_rate</th>\n",
       "      <th>Death</th>\n",
       "      <th>Death_rate</th>\n",
       "      <th>Divorce</th>\n",
       "      <th>Divorce_rate</th>\n",
       "      <th>Marriage</th>\n",
       "      <th>Marriage_rate</th>\n",
       "      <th>Natural_growth</th>\n",
       "      <th>Natural_growth_rate</th>\n",
       "    </tr>\n",
       "  </thead>\n",
       "  <tbody>\n",
       "    <tr>\n",
       "      <th>0</th>\n",
       "      <td>1/1/2000</td>\n",
       "      <td>Busan</td>\n",
       "      <td>3752.0</td>\n",
       "      <td>11.61</td>\n",
       "      <td>1875.0</td>\n",
       "      <td>5.8</td>\n",
       "      <td>814.0</td>\n",
       "      <td>2.5</td>\n",
       "      <td>2435.0</td>\n",
       "      <td>7.5</td>\n",
       "      <td>1877.0</td>\n",
       "      <td>5.8</td>\n",
       "    </tr>\n",
       "    <tr>\n",
       "      <th>1</th>\n",
       "      <td>1/1/2000</td>\n",
       "      <td>Chungcheongbuk-do</td>\n",
       "      <td>1903.0</td>\n",
       "      <td>15.06</td>\n",
       "      <td>924.0</td>\n",
       "      <td>7.3</td>\n",
       "      <td>220.0</td>\n",
       "      <td>1.7</td>\n",
       "      <td>828.0</td>\n",
       "      <td>6.6</td>\n",
       "      <td>979.0</td>\n",
       "      <td>7.7</td>\n",
       "    </tr>\n",
       "    <tr>\n",
       "      <th>2</th>\n",
       "      <td>1/1/2000</td>\n",
       "      <td>Chungcheongnam-do</td>\n",
       "      <td>2398.0</td>\n",
       "      <td>14.75</td>\n",
       "      <td>1466.0</td>\n",
       "      <td>9.0</td>\n",
       "      <td>321.0</td>\n",
       "      <td>2.0</td>\n",
       "      <td>1055.0</td>\n",
       "      <td>6.5</td>\n",
       "      <td>932.0</td>\n",
       "      <td>5.7</td>\n",
       "    </tr>\n",
       "    <tr>\n",
       "      <th>3</th>\n",
       "      <td>1/1/2000</td>\n",
       "      <td>Daegu</td>\n",
       "      <td>3057.0</td>\n",
       "      <td>14.39</td>\n",
       "      <td>1117.0</td>\n",
       "      <td>5.3</td>\n",
       "      <td>422.0</td>\n",
       "      <td>2.0</td>\n",
       "      <td>1577.0</td>\n",
       "      <td>7.4</td>\n",
       "      <td>1940.0</td>\n",
       "      <td>9.1</td>\n",
       "    </tr>\n",
       "    <tr>\n",
       "      <th>4</th>\n",
       "      <td>1/1/2000</td>\n",
       "      <td>Daejeon</td>\n",
       "      <td>1859.0</td>\n",
       "      <td>16.08</td>\n",
       "      <td>565.0</td>\n",
       "      <td>4.9</td>\n",
       "      <td>280.0</td>\n",
       "      <td>2.4</td>\n",
       "      <td>868.0</td>\n",
       "      <td>7.5</td>\n",
       "      <td>1294.0</td>\n",
       "      <td>11.2</td>\n",
       "    </tr>\n",
       "  </tbody>\n",
       "</table>\n",
       "</div>"
      ],
      "text/plain": [
       "       Date             Region   Birth  Birth_rate   Death  Death_rate  \\\n",
       "0  1/1/2000              Busan  3752.0       11.61  1875.0         5.8   \n",
       "1  1/1/2000  Chungcheongbuk-do  1903.0       15.06   924.0         7.3   \n",
       "2  1/1/2000  Chungcheongnam-do  2398.0       14.75  1466.0         9.0   \n",
       "3  1/1/2000              Daegu  3057.0       14.39  1117.0         5.3   \n",
       "4  1/1/2000            Daejeon  1859.0       16.08   565.0         4.9   \n",
       "\n",
       "   Divorce  Divorce_rate  Marriage  Marriage_rate  Natural_growth  \\\n",
       "0    814.0           2.5    2435.0            7.5          1877.0   \n",
       "1    220.0           1.7     828.0            6.6           979.0   \n",
       "2    321.0           2.0    1055.0            6.5           932.0   \n",
       "3    422.0           2.0    1577.0            7.4          1940.0   \n",
       "4    280.0           2.4     868.0            7.5          1294.0   \n",
       "\n",
       "   Natural_growth_rate  \n",
       "0                  5.8  \n",
       "1                  7.7  \n",
       "2                  5.7  \n",
       "3                  9.1  \n",
       "4                 11.2  "
      ]
     },
     "execution_count": 83,
     "metadata": {},
     "output_type": "execute_result"
    }
   ],
   "source": [
    "data_awal.head()"
   ]
  },
  {
   "cell_type": "code",
   "execution_count": 84,
   "id": "81b07ce6-2102-4fbd-a76d-353461384bee",
   "metadata": {},
   "outputs": [
    {
     "data": {
      "text/html": [
       "<div>\n",
       "<style scoped>\n",
       "    .dataframe tbody tr th:only-of-type {\n",
       "        vertical-align: middle;\n",
       "    }\n",
       "\n",
       "    .dataframe tbody tr th {\n",
       "        vertical-align: top;\n",
       "    }\n",
       "\n",
       "    .dataframe thead th {\n",
       "        text-align: right;\n",
       "    }\n",
       "</style>\n",
       "<table border=\"1\" class=\"dataframe\">\n",
       "  <thead>\n",
       "    <tr style=\"text-align: right;\">\n",
       "      <th></th>\n",
       "      <th>Date</th>\n",
       "      <th>Region</th>\n",
       "      <th>Birth</th>\n",
       "      <th>Birth_rate</th>\n",
       "      <th>Death</th>\n",
       "      <th>Death_rate</th>\n",
       "      <th>Divorce</th>\n",
       "      <th>Divorce_rate</th>\n",
       "      <th>Marriage</th>\n",
       "      <th>Marriage_rate</th>\n",
       "      <th>Natural_growth</th>\n",
       "      <th>Natural_growth_rate</th>\n",
       "    </tr>\n",
       "  </thead>\n",
       "  <tbody>\n",
       "  </tbody>\n",
       "</table>\n",
       "</div>"
      ],
      "text/plain": [
       "Empty DataFrame\n",
       "Columns: [Date, Region, Birth, Birth_rate, Death, Death_rate, Divorce, Divorce_rate, Marriage, Marriage_rate, Natural_growth, Natural_growth_rate]\n",
       "Index: []"
      ]
     },
     "execution_count": 84,
     "metadata": {},
     "output_type": "execute_result"
    }
   ],
   "source": [
    "data_awal[data_awal.duplicated()]"
   ]
  },
  {
   "cell_type": "code",
   "execution_count": 85,
   "id": "fe860c0f-3dad-4c61-b1cf-d35fd54796d4",
   "metadata": {},
   "outputs": [
    {
     "data": {
      "text/plain": [
       "0"
      ]
     },
     "execution_count": 85,
     "metadata": {},
     "output_type": "execute_result"
    }
   ],
   "source": [
    "data_awal.duplicated().sum()"
   ]
  },
  {
   "cell_type": "markdown",
   "id": "eeda1197-dd9b-42df-89b8-459eaed315f9",
   "metadata": {},
   "source": [
    "## Standarisasi data agar hasil yang akurat"
   ]
  },
  {
   "cell_type": "code",
   "execution_count": 86,
   "id": "57e11cb9-5715-4d19-9c21-4c02f1f420e0",
   "metadata": {},
   "outputs": [],
   "source": [
    "data_standarisasi = data_awal.copy()"
   ]
  },
  {
   "cell_type": "code",
   "execution_count": 87,
   "id": "aa3cd8f7-3bcd-44f6-8b73-912badafb712",
   "metadata": {},
   "outputs": [
    {
     "name": "stderr",
     "output_type": "stream",
     "text": [
      "C:\\Users\\LENOVO\\AppData\\Local\\Programs\\Python\\Python310\\lib\\site-packages\\numpy\\core\\fromnumeric.py:3571: FutureWarning: The default value of numeric_only in DataFrame.std is deprecated. In a future version, it will default to False. In addition, specifying 'numeric_only=None' is deprecated. Select only valid columns or specify the value of numeric_only to silence this warning.\n",
      "  return std(axis=axis, dtype=dtype, out=out, ddof=ddof, **kwargs)\n"
     ]
    },
    {
     "data": {
      "text/plain": [
       "Birth                  8335.745822\n",
       "Birth_rate                2.320959\n",
       "Death                  4959.390538\n",
       "Death_rate                1.563972\n",
       "Divorce                2256.686006\n",
       "Divorce_rate              0.478854\n",
       "Marriage               5706.513865\n",
       "Marriage_rate             1.435935\n",
       "Natural_growth         4099.964114\n",
       "Natural_growth_rate       3.211585\n",
       "dtype: float64"
      ]
     },
     "execution_count": 87,
     "metadata": {},
     "output_type": "execute_result"
    }
   ],
   "source": [
    "np.std(data_standarisasi)"
   ]
  },
  {
   "cell_type": "code",
   "execution_count": 88,
   "id": "2c440011-849e-4de0-9132-1c70ad0db09a",
   "metadata": {},
   "outputs": [],
   "source": [
    "standard_scaler = StandardScaler()"
   ]
  },
  {
   "cell_type": "code",
   "execution_count": 89,
   "id": "4c779e25-d75e-42f3-9ea7-b9de56e9d85b",
   "metadata": {},
   "outputs": [],
   "source": [
    "x_standard = standard_scaler.fit_transform(\n",
    "    data_standarisasi[[\n",
    "        'Birth','Birth_rate','Death',\n",
    "        'Death_rate', 'Divorce','Divorce_rate','Marriage','Marriage_rate',\n",
    "        'Natural_growth', 'Natural_growth_rate']]\n",
    ")"
   ]
  },
  {
   "cell_type": "code",
   "execution_count": 90,
   "id": "39143acc-efc5-408c-a621-c18ec7b6d404",
   "metadata": {},
   "outputs": [
    {
     "data": {
      "text/plain": [
       "1.0"
      ]
     },
     "execution_count": 90,
     "metadata": {},
     "output_type": "execute_result"
    }
   ],
   "source": [
    "np.std(x_standard)"
   ]
  },
  {
   "cell_type": "code",
   "execution_count": 91,
   "id": "0ab2fc44-c680-43ee-9c91-ebe6929e7132",
   "metadata": {},
   "outputs": [],
   "source": [
    "data_std = pd.DataFrame(x_standard)"
   ]
  },
  {
   "cell_type": "code",
   "execution_count": 92,
   "id": "db52eec1-52eb-4ec0-9d70-27f47512882c",
   "metadata": {},
   "outputs": [
    {
     "data": {
      "text/html": [
       "<div>\n",
       "<style scoped>\n",
       "    .dataframe tbody tr th:only-of-type {\n",
       "        vertical-align: middle;\n",
       "    }\n",
       "\n",
       "    .dataframe tbody tr th {\n",
       "        vertical-align: top;\n",
       "    }\n",
       "\n",
       "    .dataframe thead th {\n",
       "        text-align: right;\n",
       "    }\n",
       "</style>\n",
       "<table border=\"1\" class=\"dataframe\">\n",
       "  <thead>\n",
       "    <tr style=\"text-align: right;\">\n",
       "      <th></th>\n",
       "      <th>0</th>\n",
       "      <th>1</th>\n",
       "      <th>2</th>\n",
       "      <th>3</th>\n",
       "      <th>4</th>\n",
       "      <th>5</th>\n",
       "      <th>6</th>\n",
       "      <th>7</th>\n",
       "      <th>8</th>\n",
       "      <th>9</th>\n",
       "    </tr>\n",
       "  </thead>\n",
       "  <tbody>\n",
       "    <tr>\n",
       "      <th>0</th>\n",
       "      <td>-0.036706</td>\n",
       "      <td>1.237475</td>\n",
       "      <td>-0.129069</td>\n",
       "      <td>-0.036783</td>\n",
       "      <td>-0.130500</td>\n",
       "      <td>0.310343</td>\n",
       "      <td>-0.051868</td>\n",
       "      <td>1.317293</td>\n",
       "      <td>0.080326</td>\n",
       "      <td>0.909071</td>\n",
       "    </tr>\n",
       "    <tr>\n",
       "      <th>1</th>\n",
       "      <td>-0.258522</td>\n",
       "      <td>2.723929</td>\n",
       "      <td>-0.320827</td>\n",
       "      <td>0.922313</td>\n",
       "      <td>-0.393718</td>\n",
       "      <td>-1.360312</td>\n",
       "      <td>-0.333476</td>\n",
       "      <td>0.690524</td>\n",
       "      <td>-0.138700</td>\n",
       "      <td>1.500679</td>\n",
       "    </tr>\n",
       "    <tr>\n",
       "      <th>2</th>\n",
       "      <td>-0.199139</td>\n",
       "      <td>2.590364</td>\n",
       "      <td>-0.211539</td>\n",
       "      <td>2.009289</td>\n",
       "      <td>-0.348962</td>\n",
       "      <td>-0.733817</td>\n",
       "      <td>-0.293697</td>\n",
       "      <td>0.620883</td>\n",
       "      <td>-0.150164</td>\n",
       "      <td>0.877934</td>\n",
       "    </tr>\n",
       "    <tr>\n",
       "      <th>3</th>\n",
       "      <td>-0.120082</td>\n",
       "      <td>2.435255</td>\n",
       "      <td>-0.281911</td>\n",
       "      <td>-0.356482</td>\n",
       "      <td>-0.304206</td>\n",
       "      <td>-0.733817</td>\n",
       "      <td>-0.202222</td>\n",
       "      <td>1.247652</td>\n",
       "      <td>0.095692</td>\n",
       "      <td>1.936601</td>\n",
       "    </tr>\n",
       "    <tr>\n",
       "      <th>4</th>\n",
       "      <td>-0.263800</td>\n",
       "      <td>3.163403</td>\n",
       "      <td>-0.393215</td>\n",
       "      <td>-0.612241</td>\n",
       "      <td>-0.367130</td>\n",
       "      <td>0.101511</td>\n",
       "      <td>-0.326466</td>\n",
       "      <td>1.317293</td>\n",
       "      <td>-0.061870</td>\n",
       "      <td>2.590484</td>\n",
       "    </tr>\n",
       "  </tbody>\n",
       "</table>\n",
       "</div>"
      ],
      "text/plain": [
       "          0         1         2         3         4         5         6  \\\n",
       "0 -0.036706  1.237475 -0.129069 -0.036783 -0.130500  0.310343 -0.051868   \n",
       "1 -0.258522  2.723929 -0.320827  0.922313 -0.393718 -1.360312 -0.333476   \n",
       "2 -0.199139  2.590364 -0.211539  2.009289 -0.348962 -0.733817 -0.293697   \n",
       "3 -0.120082  2.435255 -0.281911 -0.356482 -0.304206 -0.733817 -0.202222   \n",
       "4 -0.263800  3.163403 -0.393215 -0.612241 -0.367130  0.101511 -0.326466   \n",
       "\n",
       "          7         8         9  \n",
       "0  1.317293  0.080326  0.909071  \n",
       "1  0.690524 -0.138700  1.500679  \n",
       "2  0.620883 -0.150164  0.877934  \n",
       "3  1.247652  0.095692  1.936601  \n",
       "4  1.317293 -0.061870  2.590484  "
      ]
     },
     "execution_count": 92,
     "metadata": {},
     "output_type": "execute_result"
    }
   ],
   "source": [
    "data_std.head()"
   ]
  },
  {
   "cell_type": "markdown",
   "id": "95bb6c85-9955-4603-9e1a-7a6517354e84",
   "metadata": {},
   "source": [
    "## Data Splitting"
   ]
  },
  {
   "cell_type": "code",
   "execution_count": 126,
   "id": "5c5c22ef-279a-41bf-8f80-d6409fa6f176",
   "metadata": {},
   "outputs": [],
   "source": [
    "X = data_std[[0,1,2,3,4,5,6,7,8,9]]\n",
    "Y = data_awal['Region']"
   ]
  },
  {
   "cell_type": "code",
   "execution_count": 127,
   "id": "c4d06f09-ba33-499e-b35c-c10ab537adbf",
   "metadata": {},
   "outputs": [],
   "source": [
    "X_train, X_test, Y_train, Y_test = train_test_split(X, Y, test_size = 0.3 , random_state = 1)"
   ]
  },
  {
   "cell_type": "markdown",
   "id": "0ab4e30b-d816-4629-92ca-18249e39643d",
   "metadata": {},
   "source": [
    "## ALgoritma KNN"
   ]
  },
  {
   "cell_type": "code",
   "execution_count": 128,
   "id": "8054df95-2b8a-46d5-ab1d-4866513ced0f",
   "metadata": {},
   "outputs": [],
   "source": [
    "KNN = KNeighborsClassifier(n_neighbors = 3)"
   ]
  },
  {
   "cell_type": "code",
   "execution_count": 129,
   "id": "8f4965b4-133c-4953-a2ef-9b13368a3294",
   "metadata": {},
   "outputs": [
    {
     "data": {
      "text/html": [
       "<style>#sk-container-id-4 {color: black;background-color: white;}#sk-container-id-4 pre{padding: 0;}#sk-container-id-4 div.sk-toggleable {background-color: white;}#sk-container-id-4 label.sk-toggleable__label {cursor: pointer;display: block;width: 100%;margin-bottom: 0;padding: 0.3em;box-sizing: border-box;text-align: center;}#sk-container-id-4 label.sk-toggleable__label-arrow:before {content: \"▸\";float: left;margin-right: 0.25em;color: #696969;}#sk-container-id-4 label.sk-toggleable__label-arrow:hover:before {color: black;}#sk-container-id-4 div.sk-estimator:hover label.sk-toggleable__label-arrow:before {color: black;}#sk-container-id-4 div.sk-toggleable__content {max-height: 0;max-width: 0;overflow: hidden;text-align: left;background-color: #f0f8ff;}#sk-container-id-4 div.sk-toggleable__content pre {margin: 0.2em;color: black;border-radius: 0.25em;background-color: #f0f8ff;}#sk-container-id-4 input.sk-toggleable__control:checked~div.sk-toggleable__content {max-height: 200px;max-width: 100%;overflow: auto;}#sk-container-id-4 input.sk-toggleable__control:checked~label.sk-toggleable__label-arrow:before {content: \"▾\";}#sk-container-id-4 div.sk-estimator input.sk-toggleable__control:checked~label.sk-toggleable__label {background-color: #d4ebff;}#sk-container-id-4 div.sk-label input.sk-toggleable__control:checked~label.sk-toggleable__label {background-color: #d4ebff;}#sk-container-id-4 input.sk-hidden--visually {border: 0;clip: rect(1px 1px 1px 1px);clip: rect(1px, 1px, 1px, 1px);height: 1px;margin: -1px;overflow: hidden;padding: 0;position: absolute;width: 1px;}#sk-container-id-4 div.sk-estimator {font-family: monospace;background-color: #f0f8ff;border: 1px dotted black;border-radius: 0.25em;box-sizing: border-box;margin-bottom: 0.5em;}#sk-container-id-4 div.sk-estimator:hover {background-color: #d4ebff;}#sk-container-id-4 div.sk-parallel-item::after {content: \"\";width: 100%;border-bottom: 1px solid gray;flex-grow: 1;}#sk-container-id-4 div.sk-label:hover label.sk-toggleable__label {background-color: #d4ebff;}#sk-container-id-4 div.sk-serial::before {content: \"\";position: absolute;border-left: 1px solid gray;box-sizing: border-box;top: 0;bottom: 0;left: 50%;z-index: 0;}#sk-container-id-4 div.sk-serial {display: flex;flex-direction: column;align-items: center;background-color: white;padding-right: 0.2em;padding-left: 0.2em;position: relative;}#sk-container-id-4 div.sk-item {position: relative;z-index: 1;}#sk-container-id-4 div.sk-parallel {display: flex;align-items: stretch;justify-content: center;background-color: white;position: relative;}#sk-container-id-4 div.sk-item::before, #sk-container-id-4 div.sk-parallel-item::before {content: \"\";position: absolute;border-left: 1px solid gray;box-sizing: border-box;top: 0;bottom: 0;left: 50%;z-index: -1;}#sk-container-id-4 div.sk-parallel-item {display: flex;flex-direction: column;z-index: 1;position: relative;background-color: white;}#sk-container-id-4 div.sk-parallel-item:first-child::after {align-self: flex-end;width: 50%;}#sk-container-id-4 div.sk-parallel-item:last-child::after {align-self: flex-start;width: 50%;}#sk-container-id-4 div.sk-parallel-item:only-child::after {width: 0;}#sk-container-id-4 div.sk-dashed-wrapped {border: 1px dashed gray;margin: 0 0.4em 0.5em 0.4em;box-sizing: border-box;padding-bottom: 0.4em;background-color: white;}#sk-container-id-4 div.sk-label label {font-family: monospace;font-weight: bold;display: inline-block;line-height: 1.2em;}#sk-container-id-4 div.sk-label-container {text-align: center;}#sk-container-id-4 div.sk-container {/* jupyter's `normalize.less` sets `[hidden] { display: none; }` but bootstrap.min.css set `[hidden] { display: none !important; }` so we also need the `!important` here to be able to override the default hidden behavior on the sphinx rendered scikit-learn.org. See: https://github.com/scikit-learn/scikit-learn/issues/21755 */display: inline-block !important;position: relative;}#sk-container-id-4 div.sk-text-repr-fallback {display: none;}</style><div id=\"sk-container-id-4\" class=\"sk-top-container\"><div class=\"sk-text-repr-fallback\"><pre>KNeighborsClassifier(n_neighbors=3)</pre><b>In a Jupyter environment, please rerun this cell to show the HTML representation or trust the notebook. <br />On GitHub, the HTML representation is unable to render, please try loading this page with nbviewer.org.</b></div><div class=\"sk-container\" hidden><div class=\"sk-item\"><div class=\"sk-estimator sk-toggleable\"><input class=\"sk-toggleable__control sk-hidden--visually\" id=\"sk-estimator-id-4\" type=\"checkbox\" checked><label for=\"sk-estimator-id-4\" class=\"sk-toggleable__label sk-toggleable__label-arrow\">KNeighborsClassifier</label><div class=\"sk-toggleable__content\"><pre>KNeighborsClassifier(n_neighbors=3)</pre></div></div></div></div></div>"
      ],
      "text/plain": [
       "KNeighborsClassifier(n_neighbors=3)"
      ]
     },
     "execution_count": 129,
     "metadata": {},
     "output_type": "execute_result"
    }
   ],
   "source": [
    "KNN.fit(X_train, Y_train)"
   ]
  },
  {
   "cell_type": "code",
   "execution_count": 130,
   "id": "249bb6b8-b2ab-4c48-a566-ce796d35cdf5",
   "metadata": {},
   "outputs": [
    {
     "data": {
      "text/plain": [
       "0.7610229276895943"
      ]
     },
     "execution_count": 130,
     "metadata": {},
     "output_type": "execute_result"
    }
   ],
   "source": [
    "KNN.score(X_train, Y_train)"
   ]
  },
  {
   "cell_type": "code",
   "execution_count": 131,
   "id": "a2339813-5d6f-42ee-a8ed-198c8e6f866c",
   "metadata": {},
   "outputs": [
    {
     "data": {
      "text/plain": [
       "0.522633744855967"
      ]
     },
     "execution_count": 131,
     "metadata": {},
     "output_type": "execute_result"
    }
   ],
   "source": [
    "KNN.score(X_test, Y_test)"
   ]
  },
  {
   "cell_type": "markdown",
   "id": "2d6849ee-7de0-40b4-9845-a929690767e9",
   "metadata": {},
   "source": [
    "## Algoritma Naive Bayes"
   ]
  },
  {
   "cell_type": "code",
   "execution_count": 132,
   "id": "b8f59ff5-a82f-4c11-907e-7ef2dd99b0e5",
   "metadata": {},
   "outputs": [],
   "source": [
    "gnb = GaussianNB().fit(X_train, Y_train)"
   ]
  },
  {
   "cell_type": "code",
   "execution_count": 133,
   "id": "90c29056-83d2-4612-96aa-20695734bf8f",
   "metadata": {},
   "outputs": [],
   "source": [
    "gnb_predict = gnb.predict(X_test)"
   ]
  },
  {
   "cell_type": "code",
   "execution_count": 134,
   "id": "bcecad26-9177-449f-ac4c-ac604d977165",
   "metadata": {},
   "outputs": [
    {
     "data": {
      "text/plain": [
       "0.696159122085048"
      ]
     },
     "execution_count": 134,
     "metadata": {},
     "output_type": "execute_result"
    }
   ],
   "source": [
    "accuracy_score(gnb_predict, Y_test)"
   ]
  },
  {
   "cell_type": "markdown",
   "id": "b798a914-c7cd-497a-9c47-d2a53e95fb0f",
   "metadata": {},
   "source": [
    "## Algoritma Decision Tree"
   ]
  },
  {
   "cell_type": "code",
   "execution_count": 135,
   "id": "fe45133d-07c0-43e9-b1e5-2935a621f79b",
   "metadata": {},
   "outputs": [],
   "source": [
    "tree_model = DecisionTreeClassifier().fit(X_train,Y_train)"
   ]
  },
  {
   "cell_type": "code",
   "execution_count": 136,
   "id": "5127d025-1257-4c78-b367-309bb10d1ef4",
   "metadata": {},
   "outputs": [
    {
     "data": {
      "text/plain": [
       "array(['Whole country'], dtype=object)"
      ]
     },
     "execution_count": 136,
     "metadata": {},
     "output_type": "execute_result"
    }
   ],
   "source": [
    "tier = [[1,2,3,4,5,6,7,8,9,0]]\n",
    "tree_model.predict(tier)"
   ]
  },
  {
   "cell_type": "code",
   "execution_count": 137,
   "id": "f6878cf6-1d41-43d8-ad76-b4e34bd11ea3",
   "metadata": {},
   "outputs": [
    {
     "name": "stdout",
     "output_type": "stream",
     "text": [
      "Score Training Set Tree =  1.0\n"
     ]
    }
   ],
   "source": [
    "print(\"Score Training Set Tree = \", tree_model.score(X_train, Y_train))"
   ]
  },
  {
   "cell_type": "code",
   "execution_count": 138,
   "id": "1f62069d-3dcd-4451-b2ea-02cc8db1f061",
   "metadata": {},
   "outputs": [
    {
     "name": "stdout",
     "output_type": "stream",
     "text": [
      "Score Testing Set Tree =  0.8374485596707819\n"
     ]
    }
   ],
   "source": [
    "print(\"Score Testing Set Tree = \", tree_model.score(X_test, Y_test))"
   ]
  },
  {
   "cell_type": "markdown",
   "id": "267b30b0-a4c0-4d4e-a149-97ae1563893f",
   "metadata": {},
   "source": [
    "## Visualisasi menggunakan Tree untuk Regression"
   ]
  },
  {
   "cell_type": "code",
   "execution_count": 139,
   "id": "ca97a582-02b2-447d-bce0-331ccb2e1c51",
   "metadata": {},
   "outputs": [
    {
     "ename": "NameError",
     "evalue": "name 'modelDTR' is not defined",
     "output_type": "error",
     "traceback": [
      "\u001b[1;31m---------------------------------------------------------------------------\u001b[0m",
      "\u001b[1;31mNameError\u001b[0m                                 Traceback (most recent call last)",
      "Cell \u001b[1;32mIn [146], line 3\u001b[0m\n\u001b[0;32m      1\u001b[0m \u001b[38;5;28;01mfrom\u001b[39;00m \u001b[38;5;21;01msklearn\u001b[39;00m \u001b[38;5;28;01mimport\u001b[39;00m tree\n\u001b[1;32m----> 3\u001b[0m y_predict \u001b[38;5;241m=\u001b[39m modelDTR\u001b[38;5;241m.\u001b[39mpredict(X_test)\n\u001b[0;32m      5\u001b[0m text_representation \u001b[38;5;241m=\u001b[39m tree\u001b[38;5;241m.\u001b[39mexport_text(modelDTR)\n\u001b[0;32m      7\u001b[0m fig \u001b[38;5;241m=\u001b[39m plt\u001b[38;5;241m.\u001b[39mfigure(figsize\u001b[38;5;241m=\u001b[39m(\u001b[38;5;241m15\u001b[39m,\u001b[38;5;241m10\u001b[39m))\n",
      "\u001b[1;31mNameError\u001b[0m: name 'modelDTR' is not defined"
     ]
    }
   ],
   "source": [
    "plt.figure(figsize=(15,10))\n",
    "tree_model.plot_tree(tree,\n",
    "               feature_names = X.columns,\n",
    "               filled=True,\n",
    "               class_names = Y.unique())\n",
    "plt.show()"
   ]
  },
  {
   "cell_type": "markdown",
   "id": "1c31e848-8d42-4ca4-b048-bd2c5854b9a7",
   "metadata": {},
   "source": [
    "## Perbandingan Score KNN dengan Score Naive Bayes"
   ]
  },
  {
   "cell_type": "code",
   "execution_count": 145,
   "id": "40235005-ceff-4697-8d8f-d91865ab54cf",
   "metadata": {},
   "outputs": [
    {
     "name": "stdout",
     "output_type": "stream",
     "text": [
      "Hasil Score Algoritma KNN : \n",
      "Training set KNN =  0.7610229276895943\n",
      "Testing set KNN =  0.522633744855967\n",
      "Hasil Score Algoritma Naive Bayes : \n",
      "Prediksi Akurasi Naive Bayes =  0.696159122085048\n"
     ]
    }
   ],
   "source": [
    "print(\"Hasil Score Algoritma KNN : \")\n",
    "print(\"Training set KNN = \",KNN.score(X_train, Y_train))\n",
    "print(\"Testing set KNN = \",KNN.score(X_test, Y_test))\n",
    "print(\"Hasil Score Algoritma Naive Bayes : \")\n",
    "print(\"Prediksi Akurasi Naive Bayes = \",accuracy_score(gnb_predict, Y_test))"
   ]
  }
 ],
 "metadata": {
  "kernelspec": {
   "display_name": "Python 3 (ipykernel)",
   "language": "python",
   "name": "python3"
  },
  "language_info": {
   "codemirror_mode": {
    "name": "ipython",
    "version": 3
   },
   "file_extension": ".py",
   "mimetype": "text/x-python",
   "name": "python",
   "nbconvert_exporter": "python",
   "pygments_lexer": "ipython3",
   "version": "3.10.7"
  }
 },
 "nbformat": 4,
 "nbformat_minor": 5
}
