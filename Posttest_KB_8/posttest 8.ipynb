{
 "cells": [
  {
   "cell_type": "markdown",
   "metadata": {},
   "source": [
    "## Import Library"
   ]
  },
  {
   "cell_type": "code",
   "execution_count": 44,
   "metadata": {},
   "outputs": [],
   "source": [
    "import pandas as pd\n",
    "import tensorflow as tf\n",
    "from tensorflow.keras import Sequential\n",
    "from tensorflow.keras.layers import Dense\n",
    "import numpy as np"
   ]
  },
  {
   "cell_type": "code",
   "execution_count": 45,
   "metadata": {},
   "outputs": [
    {
     "data": {
      "text/html": [
       "<div>\n",
       "<style scoped>\n",
       "    .dataframe tbody tr th:only-of-type {\n",
       "        vertical-align: middle;\n",
       "    }\n",
       "\n",
       "    .dataframe tbody tr th {\n",
       "        vertical-align: top;\n",
       "    }\n",
       "\n",
       "    .dataframe thead th {\n",
       "        text-align: right;\n",
       "    }\n",
       "</style>\n",
       "<table border=\"1\" class=\"dataframe\">\n",
       "  <thead>\n",
       "    <tr style=\"text-align: right;\">\n",
       "      <th></th>\n",
       "      <th>Date</th>\n",
       "      <th>Region</th>\n",
       "      <th>Birth</th>\n",
       "      <th>Birth_rate</th>\n",
       "      <th>Death</th>\n",
       "      <th>Death_rate</th>\n",
       "      <th>Divorce</th>\n",
       "      <th>Divorce_rate</th>\n",
       "      <th>Marriage</th>\n",
       "      <th>Marriage_rate</th>\n",
       "      <th>Natural_growth</th>\n",
       "      <th>Natural_growth_rate</th>\n",
       "    </tr>\n",
       "  </thead>\n",
       "  <tbody>\n",
       "    <tr>\n",
       "      <th>0</th>\n",
       "      <td>1/1/2000</td>\n",
       "      <td>Busan</td>\n",
       "      <td>3752.0</td>\n",
       "      <td>11.61</td>\n",
       "      <td>1875.0</td>\n",
       "      <td>5.8</td>\n",
       "      <td>814.0</td>\n",
       "      <td>2.5</td>\n",
       "      <td>2435.0</td>\n",
       "      <td>7.5</td>\n",
       "      <td>1877.0</td>\n",
       "      <td>5.8</td>\n",
       "    </tr>\n",
       "    <tr>\n",
       "      <th>1</th>\n",
       "      <td>1/1/2000</td>\n",
       "      <td>Chungcheongbuk-do</td>\n",
       "      <td>1903.0</td>\n",
       "      <td>15.06</td>\n",
       "      <td>924.0</td>\n",
       "      <td>7.3</td>\n",
       "      <td>220.0</td>\n",
       "      <td>1.7</td>\n",
       "      <td>828.0</td>\n",
       "      <td>6.6</td>\n",
       "      <td>979.0</td>\n",
       "      <td>7.7</td>\n",
       "    </tr>\n",
       "    <tr>\n",
       "      <th>2</th>\n",
       "      <td>1/1/2000</td>\n",
       "      <td>Chungcheongnam-do</td>\n",
       "      <td>2398.0</td>\n",
       "      <td>14.75</td>\n",
       "      <td>1466.0</td>\n",
       "      <td>9.0</td>\n",
       "      <td>321.0</td>\n",
       "      <td>2.0</td>\n",
       "      <td>1055.0</td>\n",
       "      <td>6.5</td>\n",
       "      <td>932.0</td>\n",
       "      <td>5.7</td>\n",
       "    </tr>\n",
       "    <tr>\n",
       "      <th>3</th>\n",
       "      <td>1/1/2000</td>\n",
       "      <td>Daegu</td>\n",
       "      <td>3057.0</td>\n",
       "      <td>14.39</td>\n",
       "      <td>1117.0</td>\n",
       "      <td>5.3</td>\n",
       "      <td>422.0</td>\n",
       "      <td>2.0</td>\n",
       "      <td>1577.0</td>\n",
       "      <td>7.4</td>\n",
       "      <td>1940.0</td>\n",
       "      <td>9.1</td>\n",
       "    </tr>\n",
       "    <tr>\n",
       "      <th>4</th>\n",
       "      <td>1/1/2000</td>\n",
       "      <td>Daejeon</td>\n",
       "      <td>1859.0</td>\n",
       "      <td>16.08</td>\n",
       "      <td>565.0</td>\n",
       "      <td>4.9</td>\n",
       "      <td>280.0</td>\n",
       "      <td>2.4</td>\n",
       "      <td>868.0</td>\n",
       "      <td>7.5</td>\n",
       "      <td>1294.0</td>\n",
       "      <td>11.2</td>\n",
       "    </tr>\n",
       "    <tr>\n",
       "      <th>...</th>\n",
       "      <td>...</td>\n",
       "      <td>...</td>\n",
       "      <td>...</td>\n",
       "      <td>...</td>\n",
       "      <td>...</td>\n",
       "      <td>...</td>\n",
       "      <td>...</td>\n",
       "      <td>...</td>\n",
       "      <td>...</td>\n",
       "      <td>...</td>\n",
       "      <td>...</td>\n",
       "      <td>...</td>\n",
       "    </tr>\n",
       "    <tr>\n",
       "      <th>4855</th>\n",
       "      <td>6/1/2022</td>\n",
       "      <td>Jeollanam-do</td>\n",
       "      <td>565.0</td>\n",
       "      <td>3.80</td>\n",
       "      <td>1369.0</td>\n",
       "      <td>9.1</td>\n",
       "      <td>299.0</td>\n",
       "      <td>2.0</td>\n",
       "      <td>479.0</td>\n",
       "      <td>3.2</td>\n",
       "      <td>-805.0</td>\n",
       "      <td>-5.4</td>\n",
       "    </tr>\n",
       "    <tr>\n",
       "      <th>4856</th>\n",
       "      <td>6/1/2022</td>\n",
       "      <td>Sejong</td>\n",
       "      <td>248.0</td>\n",
       "      <td>7.90</td>\n",
       "      <td>106.0</td>\n",
       "      <td>3.4</td>\n",
       "      <td>43.0</td>\n",
       "      <td>1.4</td>\n",
       "      <td>123.0</td>\n",
       "      <td>3.9</td>\n",
       "      <td>141.0</td>\n",
       "      <td>4.5</td>\n",
       "    </tr>\n",
       "    <tr>\n",
       "      <th>4857</th>\n",
       "      <td>6/1/2022</td>\n",
       "      <td>Seoul</td>\n",
       "      <td>3137.0</td>\n",
       "      <td>4.10</td>\n",
       "      <td>3631.0</td>\n",
       "      <td>4.7</td>\n",
       "      <td>1088.0</td>\n",
       "      <td>1.4</td>\n",
       "      <td>2630.0</td>\n",
       "      <td>3.4</td>\n",
       "      <td>-494.0</td>\n",
       "      <td>-0.6</td>\n",
       "    </tr>\n",
       "    <tr>\n",
       "      <th>4858</th>\n",
       "      <td>6/1/2022</td>\n",
       "      <td>Ulsan</td>\n",
       "      <td>443.0</td>\n",
       "      <td>4.80</td>\n",
       "      <td>434.0</td>\n",
       "      <td>4.7</td>\n",
       "      <td>154.0</td>\n",
       "      <td>1.7</td>\n",
       "      <td>316.0</td>\n",
       "      <td>3.5</td>\n",
       "      <td>9.0</td>\n",
       "      <td>0.1</td>\n",
       "    </tr>\n",
       "    <tr>\n",
       "      <th>4859</th>\n",
       "      <td>6/1/2022</td>\n",
       "      <td>Whole country</td>\n",
       "      <td>18830.0</td>\n",
       "      <td>4.50</td>\n",
       "      <td>24850.0</td>\n",
       "      <td>5.9</td>\n",
       "      <td>7586.0</td>\n",
       "      <td>1.8</td>\n",
       "      <td>14898.0</td>\n",
       "      <td>3.5</td>\n",
       "      <td>-6019.0</td>\n",
       "      <td>-1.4</td>\n",
       "    </tr>\n",
       "  </tbody>\n",
       "</table>\n",
       "<p>4860 rows × 12 columns</p>\n",
       "</div>"
      ],
      "text/plain": [
       "          Date             Region  ...  Natural_growth  Natural_growth_rate\n",
       "0     1/1/2000              Busan  ...          1877.0                  5.8\n",
       "1     1/1/2000  Chungcheongbuk-do  ...           979.0                  7.7\n",
       "2     1/1/2000  Chungcheongnam-do  ...           932.0                  5.7\n",
       "3     1/1/2000              Daegu  ...          1940.0                  9.1\n",
       "4     1/1/2000            Daejeon  ...          1294.0                 11.2\n",
       "...        ...                ...  ...             ...                  ...\n",
       "4855  6/1/2022       Jeollanam-do  ...          -805.0                 -5.4\n",
       "4856  6/1/2022             Sejong  ...           141.0                  4.5\n",
       "4857  6/1/2022              Seoul  ...          -494.0                 -0.6\n",
       "4858  6/1/2022              Ulsan  ...             9.0                  0.1\n",
       "4859  6/1/2022      Whole country  ...         -6019.0                 -1.4\n",
       "\n",
       "[4860 rows x 12 columns]"
      ]
     },
     "execution_count": 45,
     "metadata": {},
     "output_type": "execute_result"
    }
   ],
   "source": [
    "dataset = pd.read_csv(\"Korean_demographics.csv\")\n",
    "dataset"
   ]
  },
  {
   "cell_type": "code",
   "execution_count": 46,
   "metadata": {},
   "outputs": [
    {
     "data": {
      "text/plain": [
       "Date                    object\n",
       "Region                  object\n",
       "Birth                  float64\n",
       "Birth_rate             float64\n",
       "Death                  float64\n",
       "Death_rate             float64\n",
       "Divorce                float64\n",
       "Divorce_rate           float64\n",
       "Marriage               float64\n",
       "Marriage_rate          float64\n",
       "Natural_growth         float64\n",
       "Natural_growth_rate    float64\n",
       "dtype: object"
      ]
     },
     "execution_count": 46,
     "metadata": {},
     "output_type": "execute_result"
    }
   ],
   "source": [
    "dataset.dtypes"
   ]
  },
  {
   "cell_type": "code",
   "execution_count": 47,
   "metadata": {},
   "outputs": [
    {
     "name": "stdout",
     "output_type": "stream",
     "text": [
      "<class 'pandas.core.frame.DataFrame'>\n",
      "RangeIndex: 4860 entries, 0 to 4859\n",
      "Data columns (total 12 columns):\n",
      " #   Column               Non-Null Count  Dtype  \n",
      "---  ------               --------------  -----  \n",
      " 0   Date                 4860 non-null   object \n",
      " 1   Region               4860 non-null   object \n",
      " 2   Birth                4716 non-null   float64\n",
      " 3   Birth_rate           4709 non-null   float64\n",
      " 4   Death                4716 non-null   float64\n",
      " 5   Death_rate           4709 non-null   float64\n",
      " 6   Divorce              4716 non-null   float64\n",
      " 7   Divorce_rate         4709 non-null   float64\n",
      " 8   Marriage             4716 non-null   float64\n",
      " 9   Marriage_rate        4709 non-null   float64\n",
      " 10  Natural_growth       4716 non-null   float64\n",
      " 11  Natural_growth_rate  4709 non-null   float64\n",
      "dtypes: float64(10), object(2)\n",
      "memory usage: 455.8+ KB\n"
     ]
    }
   ],
   "source": [
    "dataset.info()"
   ]
  },
  {
   "cell_type": "code",
   "execution_count": 48,
   "metadata": {},
   "outputs": [
    {
     "data": {
      "text/plain": [
       "Date                     0\n",
       "Region                   0\n",
       "Birth                  144\n",
       "Birth_rate             151\n",
       "Death                  144\n",
       "Death_rate             151\n",
       "Divorce                144\n",
       "Divorce_rate           151\n",
       "Marriage               144\n",
       "Marriage_rate          151\n",
       "Natural_growth         144\n",
       "Natural_growth_rate    151\n",
       "dtype: int64"
      ]
     },
     "execution_count": 48,
     "metadata": {},
     "output_type": "execute_result"
    }
   ],
   "source": [
    "dataset.isnull().sum()"
   ]
  },
  {
   "cell_type": "markdown",
   "metadata": {},
   "source": [
    "## Data Cleaning"
   ]
  },
  {
   "cell_type": "code",
   "execution_count": 49,
   "metadata": {},
   "outputs": [
    {
     "data": {
      "text/html": [
       "<div>\n",
       "<style scoped>\n",
       "    .dataframe tbody tr th:only-of-type {\n",
       "        vertical-align: middle;\n",
       "    }\n",
       "\n",
       "    .dataframe tbody tr th {\n",
       "        vertical-align: top;\n",
       "    }\n",
       "\n",
       "    .dataframe thead th {\n",
       "        text-align: right;\n",
       "    }\n",
       "</style>\n",
       "<table border=\"1\" class=\"dataframe\">\n",
       "  <thead>\n",
       "    <tr style=\"text-align: right;\">\n",
       "      <th></th>\n",
       "      <th>Date</th>\n",
       "      <th>Region</th>\n",
       "      <th>Birth</th>\n",
       "      <th>Birth_rate</th>\n",
       "      <th>Death</th>\n",
       "      <th>Death_rate</th>\n",
       "      <th>Divorce</th>\n",
       "      <th>Divorce_rate</th>\n",
       "      <th>Marriage</th>\n",
       "      <th>Marriage_rate</th>\n",
       "      <th>Natural_growth</th>\n",
       "      <th>Natural_growth_rate</th>\n",
       "    </tr>\n",
       "  </thead>\n",
       "  <tbody>\n",
       "    <tr>\n",
       "      <th>0</th>\n",
       "      <td>1/1/2000</td>\n",
       "      <td>Busan</td>\n",
       "      <td>3752.0</td>\n",
       "      <td>11.61</td>\n",
       "      <td>1875.0</td>\n",
       "      <td>5.8</td>\n",
       "      <td>814.0</td>\n",
       "      <td>2.5</td>\n",
       "      <td>2435.0</td>\n",
       "      <td>7.5</td>\n",
       "      <td>1877.0</td>\n",
       "      <td>5.8</td>\n",
       "    </tr>\n",
       "    <tr>\n",
       "      <th>1</th>\n",
       "      <td>1/1/2000</td>\n",
       "      <td>Chungcheongbuk-do</td>\n",
       "      <td>1903.0</td>\n",
       "      <td>15.06</td>\n",
       "      <td>924.0</td>\n",
       "      <td>7.3</td>\n",
       "      <td>220.0</td>\n",
       "      <td>1.7</td>\n",
       "      <td>828.0</td>\n",
       "      <td>6.6</td>\n",
       "      <td>979.0</td>\n",
       "      <td>7.7</td>\n",
       "    </tr>\n",
       "    <tr>\n",
       "      <th>2</th>\n",
       "      <td>1/1/2000</td>\n",
       "      <td>Chungcheongnam-do</td>\n",
       "      <td>2398.0</td>\n",
       "      <td>14.75</td>\n",
       "      <td>1466.0</td>\n",
       "      <td>9.0</td>\n",
       "      <td>321.0</td>\n",
       "      <td>2.0</td>\n",
       "      <td>1055.0</td>\n",
       "      <td>6.5</td>\n",
       "      <td>932.0</td>\n",
       "      <td>5.7</td>\n",
       "    </tr>\n",
       "    <tr>\n",
       "      <th>3</th>\n",
       "      <td>1/1/2000</td>\n",
       "      <td>Daegu</td>\n",
       "      <td>3057.0</td>\n",
       "      <td>14.39</td>\n",
       "      <td>1117.0</td>\n",
       "      <td>5.3</td>\n",
       "      <td>422.0</td>\n",
       "      <td>2.0</td>\n",
       "      <td>1577.0</td>\n",
       "      <td>7.4</td>\n",
       "      <td>1940.0</td>\n",
       "      <td>9.1</td>\n",
       "    </tr>\n",
       "    <tr>\n",
       "      <th>4</th>\n",
       "      <td>1/1/2000</td>\n",
       "      <td>Daejeon</td>\n",
       "      <td>1859.0</td>\n",
       "      <td>16.08</td>\n",
       "      <td>565.0</td>\n",
       "      <td>4.9</td>\n",
       "      <td>280.0</td>\n",
       "      <td>2.4</td>\n",
       "      <td>868.0</td>\n",
       "      <td>7.5</td>\n",
       "      <td>1294.0</td>\n",
       "      <td>11.2</td>\n",
       "    </tr>\n",
       "    <tr>\n",
       "      <th>...</th>\n",
       "      <td>...</td>\n",
       "      <td>...</td>\n",
       "      <td>...</td>\n",
       "      <td>...</td>\n",
       "      <td>...</td>\n",
       "      <td>...</td>\n",
       "      <td>...</td>\n",
       "      <td>...</td>\n",
       "      <td>...</td>\n",
       "      <td>...</td>\n",
       "      <td>...</td>\n",
       "      <td>...</td>\n",
       "    </tr>\n",
       "    <tr>\n",
       "      <th>4855</th>\n",
       "      <td>6/1/2022</td>\n",
       "      <td>Jeollanam-do</td>\n",
       "      <td>565.0</td>\n",
       "      <td>3.80</td>\n",
       "      <td>1369.0</td>\n",
       "      <td>9.1</td>\n",
       "      <td>299.0</td>\n",
       "      <td>2.0</td>\n",
       "      <td>479.0</td>\n",
       "      <td>3.2</td>\n",
       "      <td>-805.0</td>\n",
       "      <td>-5.4</td>\n",
       "    </tr>\n",
       "    <tr>\n",
       "      <th>4856</th>\n",
       "      <td>6/1/2022</td>\n",
       "      <td>Sejong</td>\n",
       "      <td>248.0</td>\n",
       "      <td>7.90</td>\n",
       "      <td>106.0</td>\n",
       "      <td>3.4</td>\n",
       "      <td>43.0</td>\n",
       "      <td>1.4</td>\n",
       "      <td>123.0</td>\n",
       "      <td>3.9</td>\n",
       "      <td>141.0</td>\n",
       "      <td>4.5</td>\n",
       "    </tr>\n",
       "    <tr>\n",
       "      <th>4857</th>\n",
       "      <td>6/1/2022</td>\n",
       "      <td>Seoul</td>\n",
       "      <td>3137.0</td>\n",
       "      <td>4.10</td>\n",
       "      <td>3631.0</td>\n",
       "      <td>4.7</td>\n",
       "      <td>1088.0</td>\n",
       "      <td>1.4</td>\n",
       "      <td>2630.0</td>\n",
       "      <td>3.4</td>\n",
       "      <td>-494.0</td>\n",
       "      <td>-0.6</td>\n",
       "    </tr>\n",
       "    <tr>\n",
       "      <th>4858</th>\n",
       "      <td>6/1/2022</td>\n",
       "      <td>Ulsan</td>\n",
       "      <td>443.0</td>\n",
       "      <td>4.80</td>\n",
       "      <td>434.0</td>\n",
       "      <td>4.7</td>\n",
       "      <td>154.0</td>\n",
       "      <td>1.7</td>\n",
       "      <td>316.0</td>\n",
       "      <td>3.5</td>\n",
       "      <td>9.0</td>\n",
       "      <td>0.1</td>\n",
       "    </tr>\n",
       "    <tr>\n",
       "      <th>4859</th>\n",
       "      <td>6/1/2022</td>\n",
       "      <td>Whole country</td>\n",
       "      <td>18830.0</td>\n",
       "      <td>4.50</td>\n",
       "      <td>24850.0</td>\n",
       "      <td>5.9</td>\n",
       "      <td>7586.0</td>\n",
       "      <td>1.8</td>\n",
       "      <td>14898.0</td>\n",
       "      <td>3.5</td>\n",
       "      <td>-6019.0</td>\n",
       "      <td>-1.4</td>\n",
       "    </tr>\n",
       "  </tbody>\n",
       "</table>\n",
       "<p>4860 rows × 12 columns</p>\n",
       "</div>"
      ],
      "text/plain": [
       "          Date             Region  ...  Natural_growth  Natural_growth_rate\n",
       "0     1/1/2000              Busan  ...          1877.0                  5.8\n",
       "1     1/1/2000  Chungcheongbuk-do  ...           979.0                  7.7\n",
       "2     1/1/2000  Chungcheongnam-do  ...           932.0                  5.7\n",
       "3     1/1/2000              Daegu  ...          1940.0                  9.1\n",
       "4     1/1/2000            Daejeon  ...          1294.0                 11.2\n",
       "...        ...                ...  ...             ...                  ...\n",
       "4855  6/1/2022       Jeollanam-do  ...          -805.0                 -5.4\n",
       "4856  6/1/2022             Sejong  ...           141.0                  4.5\n",
       "4857  6/1/2022              Seoul  ...          -494.0                 -0.6\n",
       "4858  6/1/2022              Ulsan  ...             9.0                  0.1\n",
       "4859  6/1/2022      Whole country  ...         -6019.0                 -1.4\n",
       "\n",
       "[4860 rows x 12 columns]"
      ]
     },
     "execution_count": 49,
     "metadata": {},
     "output_type": "execute_result"
    }
   ],
   "source": [
    "from sklearn.impute import SimpleImputer \n",
    "dataset"
   ]
  },
  {
   "cell_type": "code",
   "execution_count": 50,
   "metadata": {},
   "outputs": [],
   "source": [
    "imputer = SimpleImputer(strategy='mean')"
   ]
  },
  {
   "cell_type": "code",
   "execution_count": 51,
   "metadata": {},
   "outputs": [],
   "source": [
    "dataset['Birth_rate'] = imputer.fit_transform(dataset[['Birth_rate']])\n",
    "dataset['Death_rate'] = imputer.fit_transform(dataset[['Death_rate']])\n",
    "dataset['Divorce_rate'] = imputer.fit_transform(dataset[['Divorce_rate']])\n",
    "dataset['Marriage_rate'] = imputer.fit_transform(dataset[['Marriage_rate']])\n",
    "dataset['Natural_growth_rate'] = imputer.fit_transform(dataset[['Natural_growth_rate']])"
   ]
  },
  {
   "cell_type": "code",
   "execution_count": 52,
   "metadata": {},
   "outputs": [
    {
     "data": {
      "text/plain": [
       "Date                     0\n",
       "Region                   0\n",
       "Birth                  144\n",
       "Birth_rate               0\n",
       "Death                  144\n",
       "Death_rate               0\n",
       "Divorce                144\n",
       "Divorce_rate             0\n",
       "Marriage               144\n",
       "Marriage_rate            0\n",
       "Natural_growth         144\n",
       "Natural_growth_rate      0\n",
       "dtype: int64"
      ]
     },
     "execution_count": 52,
     "metadata": {},
     "output_type": "execute_result"
    }
   ],
   "source": [
    "dataset.isna().sum()"
   ]
  },
  {
   "cell_type": "code",
   "execution_count": 53,
   "metadata": {},
   "outputs": [],
   "source": [
    "imputer = SimpleImputer(strategy='median')"
   ]
  },
  {
   "cell_type": "code",
   "execution_count": 54,
   "metadata": {},
   "outputs": [],
   "source": [
    "dataset['Birth'] = imputer.fit_transform(dataset[['Birth']])\n",
    "dataset['Death'] = imputer.fit_transform(dataset[['Death']])\n",
    "dataset['Divorce'] = imputer.fit_transform(dataset[['Divorce']])\n",
    "dataset['Marriage'] = imputer.fit_transform(dataset[['Marriage']])\n",
    "dataset['Natural_growth'] = imputer.fit_transform(dataset[['Natural_growth']])"
   ]
  },
  {
   "cell_type": "code",
   "execution_count": 55,
   "metadata": {},
   "outputs": [
    {
     "data": {
      "text/plain": [
       "Date                   0\n",
       "Region                 0\n",
       "Birth                  0\n",
       "Birth_rate             0\n",
       "Death                  0\n",
       "Death_rate             0\n",
       "Divorce                0\n",
       "Divorce_rate           0\n",
       "Marriage               0\n",
       "Marriage_rate          0\n",
       "Natural_growth         0\n",
       "Natural_growth_rate    0\n",
       "dtype: int64"
      ]
     },
     "execution_count": 55,
     "metadata": {},
     "output_type": "execute_result"
    }
   ],
   "source": [
    "dataset.isna().sum()"
   ]
  },
  {
   "cell_type": "markdown",
   "metadata": {},
   "source": [
    "## Data Splitting"
   ]
  },
  {
   "cell_type": "code",
   "execution_count": 56,
   "metadata": {},
   "outputs": [
    {
     "data": {
      "text/html": [
       "<div>\n",
       "<style scoped>\n",
       "    .dataframe tbody tr th:only-of-type {\n",
       "        vertical-align: middle;\n",
       "    }\n",
       "\n",
       "    .dataframe tbody tr th {\n",
       "        vertical-align: top;\n",
       "    }\n",
       "\n",
       "    .dataframe thead th {\n",
       "        text-align: right;\n",
       "    }\n",
       "</style>\n",
       "<table border=\"1\" class=\"dataframe\">\n",
       "  <thead>\n",
       "    <tr style=\"text-align: right;\">\n",
       "      <th></th>\n",
       "      <th>Date</th>\n",
       "      <th>Region</th>\n",
       "      <th>Birth</th>\n",
       "      <th>Birth_rate</th>\n",
       "      <th>Death</th>\n",
       "      <th>Death_rate</th>\n",
       "      <th>Divorce</th>\n",
       "      <th>Divorce_rate</th>\n",
       "      <th>Marriage</th>\n",
       "      <th>Marriage_rate</th>\n",
       "      <th>Natural_growth</th>\n",
       "      <th>Natural_growth_rate</th>\n",
       "    </tr>\n",
       "  </thead>\n",
       "  <tbody>\n",
       "    <tr>\n",
       "      <th>0</th>\n",
       "      <td>1/1/2000</td>\n",
       "      <td>Busan</td>\n",
       "      <td>3752.0</td>\n",
       "      <td>11.61</td>\n",
       "      <td>1875.0</td>\n",
       "      <td>5.8</td>\n",
       "      <td>814.0</td>\n",
       "      <td>2.5</td>\n",
       "      <td>2435.0</td>\n",
       "      <td>7.5</td>\n",
       "      <td>1877.0</td>\n",
       "      <td>5.8</td>\n",
       "    </tr>\n",
       "    <tr>\n",
       "      <th>1</th>\n",
       "      <td>1/1/2000</td>\n",
       "      <td>Chungcheongbuk-do</td>\n",
       "      <td>1903.0</td>\n",
       "      <td>15.06</td>\n",
       "      <td>924.0</td>\n",
       "      <td>7.3</td>\n",
       "      <td>220.0</td>\n",
       "      <td>1.7</td>\n",
       "      <td>828.0</td>\n",
       "      <td>6.6</td>\n",
       "      <td>979.0</td>\n",
       "      <td>7.7</td>\n",
       "    </tr>\n",
       "    <tr>\n",
       "      <th>2</th>\n",
       "      <td>1/1/2000</td>\n",
       "      <td>Chungcheongnam-do</td>\n",
       "      <td>2398.0</td>\n",
       "      <td>14.75</td>\n",
       "      <td>1466.0</td>\n",
       "      <td>9.0</td>\n",
       "      <td>321.0</td>\n",
       "      <td>2.0</td>\n",
       "      <td>1055.0</td>\n",
       "      <td>6.5</td>\n",
       "      <td>932.0</td>\n",
       "      <td>5.7</td>\n",
       "    </tr>\n",
       "    <tr>\n",
       "      <th>3</th>\n",
       "      <td>1/1/2000</td>\n",
       "      <td>Daegu</td>\n",
       "      <td>3057.0</td>\n",
       "      <td>14.39</td>\n",
       "      <td>1117.0</td>\n",
       "      <td>5.3</td>\n",
       "      <td>422.0</td>\n",
       "      <td>2.0</td>\n",
       "      <td>1577.0</td>\n",
       "      <td>7.4</td>\n",
       "      <td>1940.0</td>\n",
       "      <td>9.1</td>\n",
       "    </tr>\n",
       "    <tr>\n",
       "      <th>4</th>\n",
       "      <td>1/1/2000</td>\n",
       "      <td>Daejeon</td>\n",
       "      <td>1859.0</td>\n",
       "      <td>16.08</td>\n",
       "      <td>565.0</td>\n",
       "      <td>4.9</td>\n",
       "      <td>280.0</td>\n",
       "      <td>2.4</td>\n",
       "      <td>868.0</td>\n",
       "      <td>7.5</td>\n",
       "      <td>1294.0</td>\n",
       "      <td>11.2</td>\n",
       "    </tr>\n",
       "  </tbody>\n",
       "</table>\n",
       "</div>"
      ],
      "text/plain": [
       "       Date             Region  ...  Natural_growth  Natural_growth_rate\n",
       "0  1/1/2000              Busan  ...          1877.0                  5.8\n",
       "1  1/1/2000  Chungcheongbuk-do  ...           979.0                  7.7\n",
       "2  1/1/2000  Chungcheongnam-do  ...           932.0                  5.7\n",
       "3  1/1/2000              Daegu  ...          1940.0                  9.1\n",
       "4  1/1/2000            Daejeon  ...          1294.0                 11.2\n",
       "\n",
       "[5 rows x 12 columns]"
      ]
     },
     "execution_count": 56,
     "metadata": {},
     "output_type": "execute_result"
    }
   ],
   "source": [
    "from sklearn.model_selection import train_test_split\n",
    "dataset.head(5)"
   ]
  },
  {
   "cell_type": "code",
   "execution_count": 57,
   "metadata": {},
   "outputs": [],
   "source": [
    "X = dataset[['Birth','Birth_rate','Death','Death_rate','Divorce','Divorce_rate','Marriage','Marriage_rate','Natural_growth','Natural_growth_rate']]\n",
    "Y = dataset[['Birth','Birth_rate','Death','Death_rate','Divorce','Divorce_rate','Marriage','Marriage_rate','Natural_growth','Natural_growth_rate']]"
   ]
  },
  {
   "cell_type": "code",
   "execution_count": 58,
   "metadata": {},
   "outputs": [],
   "source": [
    "X_train, X_test, Y_train, Y_test = train_test_split(X, Y, test_size = 0.1 , random_state = 0)\n"
   ]
  },
  {
   "cell_type": "code",
   "execution_count": 59,
   "metadata": {},
   "outputs": [
    {
     "data": {
      "text/plain": [
       "(4374, 10)"
      ]
     },
     "execution_count": 59,
     "metadata": {},
     "output_type": "execute_result"
    }
   ],
   "source": [
    "X_train.shape"
   ]
  },
  {
   "cell_type": "code",
   "execution_count": 60,
   "metadata": {},
   "outputs": [
    {
     "data": {
      "text/plain": [
       "(486, 10)"
      ]
     },
     "execution_count": 60,
     "metadata": {},
     "output_type": "execute_result"
    }
   ],
   "source": [
    "X_test.shape"
   ]
  },
  {
   "cell_type": "code",
   "execution_count": 61,
   "metadata": {},
   "outputs": [
    {
     "data": {
      "text/plain": [
       "(4374, 10)"
      ]
     },
     "execution_count": 61,
     "metadata": {},
     "output_type": "execute_result"
    }
   ],
   "source": [
    "Y_train.shape"
   ]
  },
  {
   "cell_type": "code",
   "execution_count": 62,
   "metadata": {},
   "outputs": [
    {
     "data": {
      "text/plain": [
       "(486, 10)"
      ]
     },
     "execution_count": 62,
     "metadata": {},
     "output_type": "execute_result"
    }
   ],
   "source": [
    "Y_test.shape"
   ]
  },
  {
   "cell_type": "markdown",
   "metadata": {},
   "source": [
    "## Membuat Model (Sequential)"
   ]
  },
  {
   "cell_type": "code",
   "execution_count": 70,
   "metadata": {},
   "outputs": [],
   "source": [
    "model = Sequential()"
   ]
  },
  {
   "cell_type": "code",
   "execution_count": 71,
   "metadata": {},
   "outputs": [],
   "source": [
    "model.add(Dense(1, input_shape=[1]))"
   ]
  },
  {
   "cell_type": "code",
   "execution_count": 72,
   "metadata": {},
   "outputs": [],
   "source": [
    "model.compile(optimizer='sgd', loss='mse')"
   ]
  },
  {
   "cell_type": "code",
   "execution_count": 74,
   "metadata": {},
   "outputs": [
    {
     "name": "stdout",
     "output_type": "stream",
     "text": [
      "Epoch 1/50\n",
      "WARNING:tensorflow:Model was constructed with shape (None, 1) for input KerasTensor(type_spec=TensorSpec(shape=(None, 1), dtype=tf.float32, name='dense_12_input'), name='dense_12_input', description=\"created by layer 'dense_12_input'\"), but it was called on an input with incompatible shape (None, 10).\n"
     ]
    },
    {
     "ename": "ValueError",
     "evalue": "in user code:\n\n    File \"c:\\Users\\LENOVO\\AppData\\Local\\Programs\\Python\\Python310\\lib\\site-packages\\keras\\engine\\training.py\", line 1160, in train_function  *\n        return step_function(self, iterator)\n    File \"c:\\Users\\LENOVO\\AppData\\Local\\Programs\\Python\\Python310\\lib\\site-packages\\keras\\engine\\training.py\", line 1146, in step_function  **\n        outputs = model.distribute_strategy.run(run_step, args=(data,))\n    File \"c:\\Users\\LENOVO\\AppData\\Local\\Programs\\Python\\Python310\\lib\\site-packages\\keras\\engine\\training.py\", line 1135, in run_step  **\n        outputs = model.train_step(data)\n    File \"c:\\Users\\LENOVO\\AppData\\Local\\Programs\\Python\\Python310\\lib\\site-packages\\keras\\engine\\training.py\", line 993, in train_step\n        y_pred = self(x, training=True)\n    File \"c:\\Users\\LENOVO\\AppData\\Local\\Programs\\Python\\Python310\\lib\\site-packages\\keras\\utils\\traceback_utils.py\", line 70, in error_handler\n        raise e.with_traceback(filtered_tb) from None\n    File \"c:\\Users\\LENOVO\\AppData\\Local\\Programs\\Python\\Python310\\lib\\site-packages\\keras\\engine\\input_spec.py\", line 277, in assert_input_compatibility\n        raise ValueError(\n\n    ValueError: Exception encountered when calling layer \"sequential_3\" \"                 f\"(type Sequential).\n    \n    Input 0 of layer \"dense_12\" is incompatible with the layer: expected axis -1 of input shape to have value 1, but received input with shape (None, 10)\n    \n    Call arguments received by layer \"sequential_3\" \"                 f\"(type Sequential):\n      • inputs=tf.Tensor(shape=(None, 10), dtype=float64)\n      • training=True\n      • mask=None\n",
     "output_type": "error",
     "traceback": [
      "\u001b[1;31m---------------------------------------------------------------------------\u001b[0m",
      "\u001b[1;31mValueError\u001b[0m                                Traceback (most recent call last)",
      "Cell \u001b[1;32mIn [74], line 1\u001b[0m\n\u001b[1;32m----> 1\u001b[0m model\u001b[39m.\u001b[39mfit(X, Y, batch_size\u001b[39m=\u001b[39m\u001b[39m64\u001b[39m, epochs\u001b[39m=\u001b[39m\u001b[39m50\u001b[39m, validation_split\u001b[39m=\u001b[39m\u001b[39m0.3\u001b[39m)\n",
      "File \u001b[1;32mc:\\Users\\LENOVO\\AppData\\Local\\Programs\\Python\\Python310\\lib\\site-packages\\keras\\utils\\traceback_utils.py:70\u001b[0m, in \u001b[0;36mfilter_traceback.<locals>.error_handler\u001b[1;34m(*args, **kwargs)\u001b[0m\n\u001b[0;32m     67\u001b[0m     filtered_tb \u001b[39m=\u001b[39m _process_traceback_frames(e\u001b[39m.\u001b[39m__traceback__)\n\u001b[0;32m     68\u001b[0m     \u001b[39m# To get the full stack trace, call:\u001b[39;00m\n\u001b[0;32m     69\u001b[0m     \u001b[39m# `tf.debugging.disable_traceback_filtering()`\u001b[39;00m\n\u001b[1;32m---> 70\u001b[0m     \u001b[39mraise\u001b[39;00m e\u001b[39m.\u001b[39mwith_traceback(filtered_tb) \u001b[39mfrom\u001b[39;00m \u001b[39mNone\u001b[39m\n\u001b[0;32m     71\u001b[0m \u001b[39mfinally\u001b[39;00m:\n\u001b[0;32m     72\u001b[0m     \u001b[39mdel\u001b[39;00m filtered_tb\n",
      "File \u001b[1;32m~\\AppData\\Local\\Temp\\__autograph_generated_file07j9efau.py:15\u001b[0m, in \u001b[0;36mouter_factory.<locals>.inner_factory.<locals>.tf__train_function\u001b[1;34m(iterator)\u001b[0m\n\u001b[0;32m     13\u001b[0m \u001b[39mtry\u001b[39;00m:\n\u001b[0;32m     14\u001b[0m     do_return \u001b[39m=\u001b[39m \u001b[39mTrue\u001b[39;00m\n\u001b[1;32m---> 15\u001b[0m     retval_ \u001b[39m=\u001b[39m ag__\u001b[39m.\u001b[39mconverted_call(ag__\u001b[39m.\u001b[39mld(step_function), (ag__\u001b[39m.\u001b[39mld(\u001b[39mself\u001b[39m), ag__\u001b[39m.\u001b[39mld(iterator)), \u001b[39mNone\u001b[39;00m, fscope)\n\u001b[0;32m     16\u001b[0m \u001b[39mexcept\u001b[39;00m:\n\u001b[0;32m     17\u001b[0m     do_return \u001b[39m=\u001b[39m \u001b[39mFalse\u001b[39;00m\n",
      "\u001b[1;31mValueError\u001b[0m: in user code:\n\n    File \"c:\\Users\\LENOVO\\AppData\\Local\\Programs\\Python\\Python310\\lib\\site-packages\\keras\\engine\\training.py\", line 1160, in train_function  *\n        return step_function(self, iterator)\n    File \"c:\\Users\\LENOVO\\AppData\\Local\\Programs\\Python\\Python310\\lib\\site-packages\\keras\\engine\\training.py\", line 1146, in step_function  **\n        outputs = model.distribute_strategy.run(run_step, args=(data,))\n    File \"c:\\Users\\LENOVO\\AppData\\Local\\Programs\\Python\\Python310\\lib\\site-packages\\keras\\engine\\training.py\", line 1135, in run_step  **\n        outputs = model.train_step(data)\n    File \"c:\\Users\\LENOVO\\AppData\\Local\\Programs\\Python\\Python310\\lib\\site-packages\\keras\\engine\\training.py\", line 993, in train_step\n        y_pred = self(x, training=True)\n    File \"c:\\Users\\LENOVO\\AppData\\Local\\Programs\\Python\\Python310\\lib\\site-packages\\keras\\utils\\traceback_utils.py\", line 70, in error_handler\n        raise e.with_traceback(filtered_tb) from None\n    File \"c:\\Users\\LENOVO\\AppData\\Local\\Programs\\Python\\Python310\\lib\\site-packages\\keras\\engine\\input_spec.py\", line 277, in assert_input_compatibility\n        raise ValueError(\n\n    ValueError: Exception encountered when calling layer \"sequential_3\" \"                 f\"(type Sequential).\n    \n    Input 0 of layer \"dense_12\" is incompatible with the layer: expected axis -1 of input shape to have value 1, but received input with shape (None, 10)\n    \n    Call arguments received by layer \"sequential_3\" \"                 f\"(type Sequential):\n      • inputs=tf.Tensor(shape=(None, 10), dtype=float64)\n      • training=True\n      • mask=None\n"
     ]
    }
   ],
   "source": [
    "model.fit(X, Y, batch_size=64, epochs=50, validation_split=0.3)"
   ]
  },
  {
   "cell_type": "code",
   "execution_count": 67,
   "metadata": {},
   "outputs": [
    {
     "name": "stdout",
     "output_type": "stream",
     "text": [
      "Model: \"sequential_2\"\n",
      "_________________________________________________________________\n",
      " Layer (type)                Output Shape              Param #   \n",
      "=================================================================\n",
      " dense_8 (Dense)             (None, 512)               3584      \n",
      "                                                                 \n",
      " dense_9 (Dense)             (None, 256)               131328    \n",
      "                                                                 \n",
      " dense_10 (Dense)            (None, 128)               32896     \n",
      "                                                                 \n",
      " dense_11 (Dense)            (None, 6)                 774       \n",
      "                                                                 \n",
      "=================================================================\n",
      "Total params: 168,582\n",
      "Trainable params: 168,582\n",
      "Non-trainable params: 0\n",
      "_________________________________________________________________\n"
     ]
    }
   ],
   "source": [
    "model.summary()"
   ]
  },
  {
   "cell_type": "code",
   "execution_count": 68,
   "metadata": {},
   "outputs": [],
   "source": [
    "model.compile(optimizer='adam', loss='binary_crossentropy', metrics=['accuracy'])\n"
   ]
  },
  {
   "cell_type": "code",
   "execution_count": 69,
   "metadata": {},
   "outputs": [
    {
     "name": "stdout",
     "output_type": "stream",
     "text": [
      "Epoch 1/10\n"
     ]
    },
    {
     "ename": "ValueError",
     "evalue": "in user code:\n\n    File \"c:\\Users\\LENOVO\\AppData\\Local\\Programs\\Python\\Python310\\lib\\site-packages\\keras\\engine\\training.py\", line 1160, in train_function  *\n        return step_function(self, iterator)\n    File \"c:\\Users\\LENOVO\\AppData\\Local\\Programs\\Python\\Python310\\lib\\site-packages\\keras\\engine\\training.py\", line 1146, in step_function  **\n        outputs = model.distribute_strategy.run(run_step, args=(data,))\n    File \"c:\\Users\\LENOVO\\AppData\\Local\\Programs\\Python\\Python310\\lib\\site-packages\\keras\\engine\\training.py\", line 1135, in run_step  **\n        outputs = model.train_step(data)\n    File \"c:\\Users\\LENOVO\\AppData\\Local\\Programs\\Python\\Python310\\lib\\site-packages\\keras\\engine\\training.py\", line 993, in train_step\n        y_pred = self(x, training=True)\n    File \"c:\\Users\\LENOVO\\AppData\\Local\\Programs\\Python\\Python310\\lib\\site-packages\\keras\\utils\\traceback_utils.py\", line 70, in error_handler\n        raise e.with_traceback(filtered_tb) from None\n    File \"c:\\Users\\LENOVO\\AppData\\Local\\Programs\\Python\\Python310\\lib\\site-packages\\keras\\engine\\input_spec.py\", line 295, in assert_input_compatibility\n        raise ValueError(\n\n    ValueError: Input 0 of layer \"sequential_2\" is incompatible with the layer: expected shape=(None, 6), found shape=(None, 10)\n",
     "output_type": "error",
     "traceback": [
      "\u001b[1;31m---------------------------------------------------------------------------\u001b[0m",
      "\u001b[1;31mValueError\u001b[0m                                Traceback (most recent call last)",
      "Cell \u001b[1;32mIn [69], line 1\u001b[0m\n\u001b[1;32m----> 1\u001b[0m hasil_model \u001b[39m=\u001b[39m model\u001b[39m.\u001b[39mfit(X_train, Y_train, epochs\u001b[39m=\u001b[39m\u001b[39m10\u001b[39m, batch_size\u001b[39m=\u001b[39m\u001b[39m256\u001b[39m, validation_data\u001b[39m=\u001b[39m(X_test, Y_test))\n",
      "File \u001b[1;32mc:\\Users\\LENOVO\\AppData\\Local\\Programs\\Python\\Python310\\lib\\site-packages\\keras\\utils\\traceback_utils.py:70\u001b[0m, in \u001b[0;36mfilter_traceback.<locals>.error_handler\u001b[1;34m(*args, **kwargs)\u001b[0m\n\u001b[0;32m     67\u001b[0m     filtered_tb \u001b[39m=\u001b[39m _process_traceback_frames(e\u001b[39m.\u001b[39m__traceback__)\n\u001b[0;32m     68\u001b[0m     \u001b[39m# To get the full stack trace, call:\u001b[39;00m\n\u001b[0;32m     69\u001b[0m     \u001b[39m# `tf.debugging.disable_traceback_filtering()`\u001b[39;00m\n\u001b[1;32m---> 70\u001b[0m     \u001b[39mraise\u001b[39;00m e\u001b[39m.\u001b[39mwith_traceback(filtered_tb) \u001b[39mfrom\u001b[39;00m \u001b[39mNone\u001b[39m\n\u001b[0;32m     71\u001b[0m \u001b[39mfinally\u001b[39;00m:\n\u001b[0;32m     72\u001b[0m     \u001b[39mdel\u001b[39;00m filtered_tb\n",
      "File \u001b[1;32m~\\AppData\\Local\\Temp\\__autograph_generated_file07j9efau.py:15\u001b[0m, in \u001b[0;36mouter_factory.<locals>.inner_factory.<locals>.tf__train_function\u001b[1;34m(iterator)\u001b[0m\n\u001b[0;32m     13\u001b[0m \u001b[39mtry\u001b[39;00m:\n\u001b[0;32m     14\u001b[0m     do_return \u001b[39m=\u001b[39m \u001b[39mTrue\u001b[39;00m\n\u001b[1;32m---> 15\u001b[0m     retval_ \u001b[39m=\u001b[39m ag__\u001b[39m.\u001b[39mconverted_call(ag__\u001b[39m.\u001b[39mld(step_function), (ag__\u001b[39m.\u001b[39mld(\u001b[39mself\u001b[39m), ag__\u001b[39m.\u001b[39mld(iterator)), \u001b[39mNone\u001b[39;00m, fscope)\n\u001b[0;32m     16\u001b[0m \u001b[39mexcept\u001b[39;00m:\n\u001b[0;32m     17\u001b[0m     do_return \u001b[39m=\u001b[39m \u001b[39mFalse\u001b[39;00m\n",
      "\u001b[1;31mValueError\u001b[0m: in user code:\n\n    File \"c:\\Users\\LENOVO\\AppData\\Local\\Programs\\Python\\Python310\\lib\\site-packages\\keras\\engine\\training.py\", line 1160, in train_function  *\n        return step_function(self, iterator)\n    File \"c:\\Users\\LENOVO\\AppData\\Local\\Programs\\Python\\Python310\\lib\\site-packages\\keras\\engine\\training.py\", line 1146, in step_function  **\n        outputs = model.distribute_strategy.run(run_step, args=(data,))\n    File \"c:\\Users\\LENOVO\\AppData\\Local\\Programs\\Python\\Python310\\lib\\site-packages\\keras\\engine\\training.py\", line 1135, in run_step  **\n        outputs = model.train_step(data)\n    File \"c:\\Users\\LENOVO\\AppData\\Local\\Programs\\Python\\Python310\\lib\\site-packages\\keras\\engine\\training.py\", line 993, in train_step\n        y_pred = self(x, training=True)\n    File \"c:\\Users\\LENOVO\\AppData\\Local\\Programs\\Python\\Python310\\lib\\site-packages\\keras\\utils\\traceback_utils.py\", line 70, in error_handler\n        raise e.with_traceback(filtered_tb) from None\n    File \"c:\\Users\\LENOVO\\AppData\\Local\\Programs\\Python\\Python310\\lib\\site-packages\\keras\\engine\\input_spec.py\", line 295, in assert_input_compatibility\n        raise ValueError(\n\n    ValueError: Input 0 of layer \"sequential_2\" is incompatible with the layer: expected shape=(None, 6), found shape=(None, 10)\n"
     ]
    }
   ],
   "source": [
    "hasil_model = model.fit(X_train, Y_train, epochs=10, batch_size=256, validation_data=(X_test, Y_test))\n"
   ]
  },
  {
   "cell_type": "code",
   "execution_count": null,
   "metadata": {},
   "outputs": [],
   "source": []
  }
 ],
 "metadata": {
  "kernelspec": {
   "display_name": "Python 3.10.7 64-bit",
   "language": "python",
   "name": "python3"
  },
  "language_info": {
   "codemirror_mode": {
    "name": "ipython",
    "version": 3
   },
   "file_extension": ".py",
   "mimetype": "text/x-python",
   "name": "python",
   "nbconvert_exporter": "python",
   "pygments_lexer": "ipython3",
   "version": "3.10.7"
  },
  "orig_nbformat": 4,
  "vscode": {
   "interpreter": {
    "hash": "f2ccb58c476f33ba3e3aee7ac07234ef6b8217ef24ad64d2a7d4fed1a57c1cd2"
   }
  }
 },
 "nbformat": 4,
 "nbformat_minor": 2
}
